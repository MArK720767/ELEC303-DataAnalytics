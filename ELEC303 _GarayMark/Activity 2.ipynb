{
 "cells": [
  {
   "cell_type": "markdown",
   "id": "113eed5a-d708-46c5-9c53-a40e6460a755",
   "metadata": {},
   "source": [
    "<h1 style='text-align: center;'>UK Road Accidents Data Analysis</h1>\n",
    "<hr>"
   ]
  },
  {
   "cell_type": "markdown",
   "id": "bde6e47e-c565-49e6-a90d-af1fbebb7db6",
   "metadata": {},
   "source": [
    "<h2>Import Libraries</h2>"
   ]
  },
  {
   "cell_type": "code",
   "execution_count": 1,
   "id": "88a44e44-a6cd-4c05-ade7-b09a10d28405",
   "metadata": {},
   "outputs": [],
   "source": [
    "import numpy as np\n",
    "import pandas as pd\n",
    "import warnings\n",
    "from scipy.stats import f_oneway\n",
    "import seaborn as sns\n",
    "warnings.filterwarnings(\"ignore\")"
   ]
  },
  {
   "cell_type": "markdown",
   "id": "3d19a60a-1a35-4d75-904c-0242f8e4e7ea",
   "metadata": {},
   "source": [
    "<h2>Load Dataset into Data Frame</h2>"
   ]
  },
  {
   "cell_type": "code",
   "execution_count": 2,
   "id": "23863822-fe6e-4449-8935-9dbcf9a5ccde",
   "metadata": {},
   "outputs": [],
   "source": [
    "data = pd.read_csv('dataset\\\\uk_road_accident.csv')"
   ]
  },
  {
   "cell_type": "markdown",
   "id": "06294a18-5fa1-4a52-a925-0f512084fba5",
   "metadata": {},
   "source": [
    "<h2>Check DataFrame Information</h2>"
   ]
  },
  {
   "cell_type": "code",
   "execution_count": 3,
   "id": "503c5566-c8a8-47d4-932f-1d872e12fc7a",
   "metadata": {},
   "outputs": [
    {
     "data": {
      "text/html": [
       "<div>\n",
       "<style scoped>\n",
       "    .dataframe tbody tr th:only-of-type {\n",
       "        vertical-align: middle;\n",
       "    }\n",
       "\n",
       "    .dataframe tbody tr th {\n",
       "        vertical-align: top;\n",
       "    }\n",
       "\n",
       "    .dataframe thead th {\n",
       "        text-align: right;\n",
       "    }\n",
       "</style>\n",
       "<table border=\"1\" class=\"dataframe\">\n",
       "  <thead>\n",
       "    <tr style=\"text-align: right;\">\n",
       "      <th></th>\n",
       "      <th>Index</th>\n",
       "      <th>Accident_Severity</th>\n",
       "      <th>Accident Date</th>\n",
       "      <th>Latitude</th>\n",
       "      <th>Light_Conditions</th>\n",
       "      <th>District Area</th>\n",
       "      <th>Longitude</th>\n",
       "      <th>Number_of_Casualties</th>\n",
       "      <th>Number_of_Vehicles</th>\n",
       "      <th>Road_Surface_Conditions</th>\n",
       "      <th>Road_Type</th>\n",
       "      <th>Urban_or_Rural_Area</th>\n",
       "      <th>Weather_Conditions</th>\n",
       "      <th>Vehicle_Type</th>\n",
       "    </tr>\n",
       "  </thead>\n",
       "  <tbody>\n",
       "    <tr>\n",
       "      <th>0</th>\n",
       "      <td>200701BS64157</td>\n",
       "      <td>Serious</td>\n",
       "      <td>5/6/2019</td>\n",
       "      <td>51.506187</td>\n",
       "      <td>Darkness - lights lit</td>\n",
       "      <td>Kensington and Chelsea</td>\n",
       "      <td>-0.209082</td>\n",
       "      <td>1</td>\n",
       "      <td>2</td>\n",
       "      <td>Dry</td>\n",
       "      <td>Single carriageway</td>\n",
       "      <td>Urban</td>\n",
       "      <td>Fine no high winds</td>\n",
       "      <td>Car</td>\n",
       "    </tr>\n",
       "    <tr>\n",
       "      <th>1</th>\n",
       "      <td>200701BS65737</td>\n",
       "      <td>Serious</td>\n",
       "      <td>2/7/2019</td>\n",
       "      <td>51.495029</td>\n",
       "      <td>Daylight</td>\n",
       "      <td>Kensington and Chelsea</td>\n",
       "      <td>-0.173647</td>\n",
       "      <td>1</td>\n",
       "      <td>2</td>\n",
       "      <td>Wet or damp</td>\n",
       "      <td>Single carriageway</td>\n",
       "      <td>Urban</td>\n",
       "      <td>Raining no high winds</td>\n",
       "      <td>Car</td>\n",
       "    </tr>\n",
       "    <tr>\n",
       "      <th>2</th>\n",
       "      <td>200701BS66127</td>\n",
       "      <td>Serious</td>\n",
       "      <td>26-08-2019</td>\n",
       "      <td>51.517715</td>\n",
       "      <td>Darkness - lighting unknown</td>\n",
       "      <td>Kensington and Chelsea</td>\n",
       "      <td>-0.210215</td>\n",
       "      <td>1</td>\n",
       "      <td>3</td>\n",
       "      <td>Dry</td>\n",
       "      <td>NaN</td>\n",
       "      <td>Urban</td>\n",
       "      <td>NaN</td>\n",
       "      <td>Taxi/Private hire car</td>\n",
       "    </tr>\n",
       "    <tr>\n",
       "      <th>3</th>\n",
       "      <td>200701BS66128</td>\n",
       "      <td>Serious</td>\n",
       "      <td>16-08-2019</td>\n",
       "      <td>51.495478</td>\n",
       "      <td>Daylight</td>\n",
       "      <td>Kensington and Chelsea</td>\n",
       "      <td>-0.202731</td>\n",
       "      <td>1</td>\n",
       "      <td>4</td>\n",
       "      <td>Dry</td>\n",
       "      <td>Single carriageway</td>\n",
       "      <td>Urban</td>\n",
       "      <td>Fine no high winds</td>\n",
       "      <td>Bus or coach (17 or more pass seats)</td>\n",
       "    </tr>\n",
       "    <tr>\n",
       "      <th>4</th>\n",
       "      <td>200701BS66837</td>\n",
       "      <td>Slight</td>\n",
       "      <td>3/9/2019</td>\n",
       "      <td>51.488576</td>\n",
       "      <td>Darkness - lights lit</td>\n",
       "      <td>Kensington and Chelsea</td>\n",
       "      <td>-0.192487</td>\n",
       "      <td>1</td>\n",
       "      <td>2</td>\n",
       "      <td>Dry</td>\n",
       "      <td>NaN</td>\n",
       "      <td>Urban</td>\n",
       "      <td>NaN</td>\n",
       "      <td>Other vehicle</td>\n",
       "    </tr>\n",
       "    <tr>\n",
       "      <th>...</th>\n",
       "      <td>...</td>\n",
       "      <td>...</td>\n",
       "      <td>...</td>\n",
       "      <td>...</td>\n",
       "      <td>...</td>\n",
       "      <td>...</td>\n",
       "      <td>...</td>\n",
       "      <td>...</td>\n",
       "      <td>...</td>\n",
       "      <td>...</td>\n",
       "      <td>...</td>\n",
       "      <td>...</td>\n",
       "      <td>...</td>\n",
       "      <td>...</td>\n",
       "    </tr>\n",
       "    <tr>\n",
       "      <th>660674</th>\n",
       "      <td>201091NM01760</td>\n",
       "      <td>Slight</td>\n",
       "      <td>18-02-2022</td>\n",
       "      <td>57.374005</td>\n",
       "      <td>Daylight</td>\n",
       "      <td>Highland</td>\n",
       "      <td>-3.467828</td>\n",
       "      <td>2</td>\n",
       "      <td>1</td>\n",
       "      <td>Dry</td>\n",
       "      <td>Single carriageway</td>\n",
       "      <td>Rural</td>\n",
       "      <td>Fine no high winds</td>\n",
       "      <td>Car</td>\n",
       "    </tr>\n",
       "    <tr>\n",
       "      <th>660675</th>\n",
       "      <td>201091NM01881</td>\n",
       "      <td>Slight</td>\n",
       "      <td>21-02-2022</td>\n",
       "      <td>57.232273</td>\n",
       "      <td>Darkness - no lighting</td>\n",
       "      <td>Highland</td>\n",
       "      <td>-3.809281</td>\n",
       "      <td>1</td>\n",
       "      <td>1</td>\n",
       "      <td>Frost or ice</td>\n",
       "      <td>Single carriageway</td>\n",
       "      <td>Rural</td>\n",
       "      <td>Fine no high winds</td>\n",
       "      <td>Car</td>\n",
       "    </tr>\n",
       "    <tr>\n",
       "      <th>660676</th>\n",
       "      <td>201091NM01935</td>\n",
       "      <td>Slight</td>\n",
       "      <td>23-02-2022</td>\n",
       "      <td>57.585044</td>\n",
       "      <td>Daylight</td>\n",
       "      <td>Highland</td>\n",
       "      <td>-3.862727</td>\n",
       "      <td>1</td>\n",
       "      <td>3</td>\n",
       "      <td>Frost or ice</td>\n",
       "      <td>Single carriageway</td>\n",
       "      <td>Rural</td>\n",
       "      <td>Fine no high winds</td>\n",
       "      <td>Car</td>\n",
       "    </tr>\n",
       "    <tr>\n",
       "      <th>660677</th>\n",
       "      <td>201091NM01964</td>\n",
       "      <td>Serious</td>\n",
       "      <td>23-02-2022</td>\n",
       "      <td>57.214898</td>\n",
       "      <td>Darkness - no lighting</td>\n",
       "      <td>Highland</td>\n",
       "      <td>-3.823997</td>\n",
       "      <td>1</td>\n",
       "      <td>2</td>\n",
       "      <td>Wet or damp</td>\n",
       "      <td>Single carriageway</td>\n",
       "      <td>Rural</td>\n",
       "      <td>Fine no high winds</td>\n",
       "      <td>Motorcycle over 500cc</td>\n",
       "    </tr>\n",
       "    <tr>\n",
       "      <th>660678</th>\n",
       "      <td>201091NM02142</td>\n",
       "      <td>Serious</td>\n",
       "      <td>28-02-2022</td>\n",
       "      <td>57.575210</td>\n",
       "      <td>Daylight</td>\n",
       "      <td>Highland</td>\n",
       "      <td>-3.895673</td>\n",
       "      <td>1</td>\n",
       "      <td>1</td>\n",
       "      <td>Wet or damp</td>\n",
       "      <td>Dual carriageway</td>\n",
       "      <td>Rural</td>\n",
       "      <td>Snowing no high winds</td>\n",
       "      <td>Car</td>\n",
       "    </tr>\n",
       "  </tbody>\n",
       "</table>\n",
       "<p>660679 rows × 14 columns</p>\n",
       "</div>"
      ],
      "text/plain": [
       "                Index Accident_Severity Accident Date   Latitude  \\\n",
       "0       200701BS64157           Serious      5/6/2019  51.506187   \n",
       "1       200701BS65737           Serious      2/7/2019  51.495029   \n",
       "2       200701BS66127           Serious    26-08-2019  51.517715   \n",
       "3       200701BS66128           Serious    16-08-2019  51.495478   \n",
       "4       200701BS66837            Slight      3/9/2019  51.488576   \n",
       "...               ...               ...           ...        ...   \n",
       "660674  201091NM01760            Slight    18-02-2022  57.374005   \n",
       "660675  201091NM01881            Slight    21-02-2022  57.232273   \n",
       "660676  201091NM01935            Slight    23-02-2022  57.585044   \n",
       "660677  201091NM01964           Serious    23-02-2022  57.214898   \n",
       "660678  201091NM02142           Serious    28-02-2022  57.575210   \n",
       "\n",
       "                   Light_Conditions           District Area  Longitude  \\\n",
       "0             Darkness - lights lit  Kensington and Chelsea  -0.209082   \n",
       "1                          Daylight  Kensington and Chelsea  -0.173647   \n",
       "2       Darkness - lighting unknown  Kensington and Chelsea  -0.210215   \n",
       "3                          Daylight  Kensington and Chelsea  -0.202731   \n",
       "4             Darkness - lights lit  Kensington and Chelsea  -0.192487   \n",
       "...                             ...                     ...        ...   \n",
       "660674                     Daylight                Highland  -3.467828   \n",
       "660675       Darkness - no lighting                Highland  -3.809281   \n",
       "660676                     Daylight                Highland  -3.862727   \n",
       "660677       Darkness - no lighting                Highland  -3.823997   \n",
       "660678                     Daylight                Highland  -3.895673   \n",
       "\n",
       "        Number_of_Casualties  Number_of_Vehicles Road_Surface_Conditions  \\\n",
       "0                          1                   2                     Dry   \n",
       "1                          1                   2             Wet or damp   \n",
       "2                          1                   3                     Dry   \n",
       "3                          1                   4                     Dry   \n",
       "4                          1                   2                     Dry   \n",
       "...                      ...                 ...                     ...   \n",
       "660674                     2                   1                     Dry   \n",
       "660675                     1                   1            Frost or ice   \n",
       "660676                     1                   3            Frost or ice   \n",
       "660677                     1                   2             Wet or damp   \n",
       "660678                     1                   1             Wet or damp   \n",
       "\n",
       "                 Road_Type Urban_or_Rural_Area     Weather_Conditions  \\\n",
       "0       Single carriageway               Urban     Fine no high winds   \n",
       "1       Single carriageway               Urban  Raining no high winds   \n",
       "2                      NaN               Urban                    NaN   \n",
       "3       Single carriageway               Urban     Fine no high winds   \n",
       "4                      NaN               Urban                    NaN   \n",
       "...                    ...                 ...                    ...   \n",
       "660674  Single carriageway               Rural     Fine no high winds   \n",
       "660675  Single carriageway               Rural     Fine no high winds   \n",
       "660676  Single carriageway               Rural     Fine no high winds   \n",
       "660677  Single carriageway               Rural     Fine no high winds   \n",
       "660678    Dual carriageway               Rural  Snowing no high winds   \n",
       "\n",
       "                                Vehicle_Type  \n",
       "0                                        Car  \n",
       "1                                        Car  \n",
       "2                      Taxi/Private hire car  \n",
       "3       Bus or coach (17 or more pass seats)  \n",
       "4                              Other vehicle  \n",
       "...                                      ...  \n",
       "660674                                   Car  \n",
       "660675                                   Car  \n",
       "660676                                   Car  \n",
       "660677                 Motorcycle over 500cc  \n",
       "660678                                   Car  \n",
       "\n",
       "[660679 rows x 14 columns]"
      ]
     },
     "execution_count": 3,
     "metadata": {},
     "output_type": "execute_result"
    }
   ],
   "source": [
    "data"
   ]
  },
  {
   "cell_type": "markdown",
   "id": "87948127-b52a-4761-8c08-e39ec34dd471",
   "metadata": {},
   "source": [
    "<h2>Basic Descriptive Statistic</h2>"
   ]
  },
  {
   "cell_type": "code",
   "execution_count": 4,
   "id": "ca2c3002-2445-412e-aad4-c954e69cdfb3",
   "metadata": {},
   "outputs": [
    {
     "data": {
      "text/html": [
       "<div>\n",
       "<style scoped>\n",
       "    .dataframe tbody tr th:only-of-type {\n",
       "        vertical-align: middle;\n",
       "    }\n",
       "\n",
       "    .dataframe tbody tr th {\n",
       "        vertical-align: top;\n",
       "    }\n",
       "\n",
       "    .dataframe thead th {\n",
       "        text-align: right;\n",
       "    }\n",
       "</style>\n",
       "<table border=\"1\" class=\"dataframe\">\n",
       "  <thead>\n",
       "    <tr style=\"text-align: right;\">\n",
       "      <th></th>\n",
       "      <th>Latitude</th>\n",
       "      <th>Longitude</th>\n",
       "      <th>Number_of_Casualties</th>\n",
       "      <th>Number_of_Vehicles</th>\n",
       "    </tr>\n",
       "  </thead>\n",
       "  <tbody>\n",
       "    <tr>\n",
       "      <th>count</th>\n",
       "      <td>660654.000000</td>\n",
       "      <td>660653.000000</td>\n",
       "      <td>660679.000000</td>\n",
       "      <td>660679.000000</td>\n",
       "    </tr>\n",
       "    <tr>\n",
       "      <th>mean</th>\n",
       "      <td>52.553866</td>\n",
       "      <td>-1.431210</td>\n",
       "      <td>1.357040</td>\n",
       "      <td>1.831255</td>\n",
       "    </tr>\n",
       "    <tr>\n",
       "      <th>std</th>\n",
       "      <td>1.406922</td>\n",
       "      <td>1.383330</td>\n",
       "      <td>0.824847</td>\n",
       "      <td>0.715269</td>\n",
       "    </tr>\n",
       "    <tr>\n",
       "      <th>min</th>\n",
       "      <td>49.914430</td>\n",
       "      <td>-7.516225</td>\n",
       "      <td>1.000000</td>\n",
       "      <td>1.000000</td>\n",
       "    </tr>\n",
       "    <tr>\n",
       "      <th>25%</th>\n",
       "      <td>51.490690</td>\n",
       "      <td>-2.332291</td>\n",
       "      <td>1.000000</td>\n",
       "      <td>1.000000</td>\n",
       "    </tr>\n",
       "    <tr>\n",
       "      <th>50%</th>\n",
       "      <td>52.315641</td>\n",
       "      <td>-1.411667</td>\n",
       "      <td>1.000000</td>\n",
       "      <td>2.000000</td>\n",
       "    </tr>\n",
       "    <tr>\n",
       "      <th>75%</th>\n",
       "      <td>53.453452</td>\n",
       "      <td>-0.232869</td>\n",
       "      <td>1.000000</td>\n",
       "      <td>2.000000</td>\n",
       "    </tr>\n",
       "    <tr>\n",
       "      <th>max</th>\n",
       "      <td>60.757544</td>\n",
       "      <td>1.762010</td>\n",
       "      <td>68.000000</td>\n",
       "      <td>32.000000</td>\n",
       "    </tr>\n",
       "  </tbody>\n",
       "</table>\n",
       "</div>"
      ],
      "text/plain": [
       "            Latitude      Longitude  Number_of_Casualties  Number_of_Vehicles\n",
       "count  660654.000000  660653.000000         660679.000000       660679.000000\n",
       "mean       52.553866      -1.431210              1.357040            1.831255\n",
       "std         1.406922       1.383330              0.824847            0.715269\n",
       "min        49.914430      -7.516225              1.000000            1.000000\n",
       "25%        51.490690      -2.332291              1.000000            1.000000\n",
       "50%        52.315641      -1.411667              1.000000            2.000000\n",
       "75%        53.453452      -0.232869              1.000000            2.000000\n",
       "max        60.757544       1.762010             68.000000           32.000000"
      ]
     },
     "execution_count": 4,
     "metadata": {},
     "output_type": "execute_result"
    }
   ],
   "source": [
    "data.describe()"
   ]
  },
  {
   "cell_type": "markdown",
   "id": "192d9310-5019-4119-aabb-8f31129d87d6",
   "metadata": {},
   "source": [
    "<h2>Check for Null Values</h2>"
   ]
  },
  {
   "cell_type": "code",
   "execution_count": 5,
   "id": "f8616f11-4297-4351-a428-7685370a561d",
   "metadata": {},
   "outputs": [
    {
     "data": {
      "text/plain": [
       "Index                          0\n",
       "Accident_Severity              0\n",
       "Accident Date                  0\n",
       "Latitude                      25\n",
       "Light_Conditions               0\n",
       "District Area                  0\n",
       "Longitude                     26\n",
       "Number_of_Casualties           0\n",
       "Number_of_Vehicles             0\n",
       "Road_Surface_Conditions      726\n",
       "Road_Type                   4520\n",
       "Urban_or_Rural_Area           15\n",
       "Weather_Conditions         14128\n",
       "Vehicle_Type                   0\n",
       "dtype: int64"
      ]
     },
     "execution_count": 5,
     "metadata": {},
     "output_type": "execute_result"
    }
   ],
   "source": [
    "data.isnull().sum()"
   ]
  },
  {
   "cell_type": "markdown",
   "id": "4b48f06c-7528-4ed8-962d-4cfea17f1de9",
   "metadata": {},
   "source": [
    "<h2>Fill Null Values</h2>"
   ]
  },
  {
   "cell_type": "code",
   "execution_count": 6,
   "id": "ad4f90bf-7c87-4631-875b-8a83547e41ba",
   "metadata": {},
   "outputs": [],
   "source": [
    "data['Latitude'] = data['Latitude'].fillna(data['Latitude'].mean())\n",
    "data['Longitude'] = data['Longitude'].fillna(data['Longitude'].mean())\n",
    "data['Road_Surface_Conditions'] = data['Road_Surface_Conditions'].fillna(data['Road_Surface_Conditions'].mode()[0])\n",
    "data['Road_Type'] = data['Road_Type'].fillna(data['Road_Type'].mode()[0])\n",
    "data['Urban_or_Rural_Area'] = data['Urban_or_Rural_Area'].fillna(data['Urban_or_Rural_Area'].mode()[0])\n",
    "data['Weather_Conditions'] = data['Weather_Conditions'].fillna(data['Weather_Conditions'].mode()[0])"
   ]
  },
  {
   "cell_type": "code",
   "execution_count": 7,
   "id": "f20f03f5-e927-4be2-a610-d74e6d6cb438",
   "metadata": {},
   "outputs": [
    {
     "data": {
      "text/plain": [
       "Index                      0\n",
       "Accident_Severity          0\n",
       "Accident Date              0\n",
       "Latitude                   0\n",
       "Light_Conditions           0\n",
       "District Area              0\n",
       "Longitude                  0\n",
       "Number_of_Casualties       0\n",
       "Number_of_Vehicles         0\n",
       "Road_Surface_Conditions    0\n",
       "Road_Type                  0\n",
       "Urban_or_Rural_Area        0\n",
       "Weather_Conditions         0\n",
       "Vehicle_Type               0\n",
       "dtype: int64"
      ]
     },
     "execution_count": 7,
     "metadata": {},
     "output_type": "execute_result"
    }
   ],
   "source": [
    "data.isnull().sum()"
   ]
  },
  {
   "cell_type": "code",
   "execution_count": 8,
   "id": "62d62a1d-8a24-4d6a-8eb8-e3a531c414c2",
   "metadata": {},
   "outputs": [],
   "source": [
    "data['Index'] = data['Index'].astype('str')\n",
    "data['Accident_Severity'] = data['Accident_Severity'].astype('category')\n",
    "data['Light_Conditions'] = data['Light_Conditions'].astype('category')\n",
    "data['District Area'] = data['District Area'].astype('category')\n",
    "data['Road_Surface_Conditions'] = data['Road_Surface_Conditions'].astype('category')\n",
    "data['Road_Type'] = data['Road_Type'].astype('category')\n",
    "data['Urban_or_Rural_Area'] = data['Urban_or_Rural_Area'].astype('category')\n",
    "data['Weather_Conditions'] = data['Weather_Conditions'].astype('category')\n",
    "data['Vehicle_Type'] = data['Vehicle_Type'].astype('category')"
   ]
  },
  {
   "cell_type": "markdown",
   "id": "d32cdaa0-6165-47bc-b9fc-a6139c451925",
   "metadata": {},
   "source": [
    "<h1 style='text-align: center;'>Exploratory Data Analysis</h1>"
   ]
  },
  {
   "cell_type": "markdown",
   "id": "24ebb2ce-979b-42fc-89ff-94a43dfdb61d",
   "metadata": {},
   "source": [
    "<h2>Question 1</h2>\n",
    "<h3>Which District area has the most fatal accidents?</h3>"
   ]
  },
  {
   "cell_type": "code",
   "execution_count": 9,
   "id": "83b2e824-2501-46c3-8c37-73684a8058b3",
   "metadata": {},
   "outputs": [
    {
     "data": {
      "text/plain": [
       "District Area\n",
       "Birmingham                  105\n",
       "Leeds                        93\n",
       "Highland                     88\n",
       "East Riding of Yorkshire     85\n",
       "Bradford                     71\n",
       "                           ... \n",
       "Orkney Islands                2\n",
       "Havant                        2\n",
       "Stevenage                     1\n",
       "Clackmannanshire              1\n",
       "Harlow                        1\n",
       "Name: count, Length: 422, dtype: int64"
      ]
     },
     "execution_count": 9,
     "metadata": {},
     "output_type": "execute_result"
    }
   ],
   "source": [
    "fatal_accidents = data[data['Accident_Severity'] == 'Fatal']\n",
    "fatal_accidents['District Area'].value_counts().sort_values(ascending=False)"
   ]
  },
  {
   "cell_type": "markdown",
   "id": "34d898c4-af64-4701-8668-83e7e650ec3a",
   "metadata": {},
   "source": [
    "<h3>Insight 1:</h3>\n",
    "<h4>The data shows that the Birmingham district area has the most fatal accidents among the district areas</h4>\n",
    "<hr>"
   ]
  },
  {
   "cell_type": "markdown",
   "id": "4586e506-86fe-460d-b4ca-1917ad53fa91",
   "metadata": {},
   "source": [
    "<h2>Question 2</h2>\n",
    "<h3>What are the different categories of accident severity, and how many accidents fall into each?</h3>"
   ]
  },
  {
   "cell_type": "code",
   "execution_count": 10,
   "id": "1de01d9a-98ae-473b-b6bd-beb2b364bec3",
   "metadata": {},
   "outputs": [
    {
     "data": {
      "text/plain": [
       "Accident_Severity\n",
       "Slight     563801\n",
       "Serious     88217\n",
       "Fatal        8661\n",
       "Name: count, dtype: int64"
      ]
     },
     "execution_count": 10,
     "metadata": {},
     "output_type": "execute_result"
    }
   ],
   "source": [
    "data[\"Accident_Severity\"].value_counts()"
   ]
  },
  {
   "cell_type": "markdown",
   "id": "8c780ff5-8688-4bca-86b5-8e0cee29a1a7",
   "metadata": {},
   "source": [
    "<h3>Insight 2:</h3>\n",
    "<h4>Most accidents are slight, and fatal accidents rarely occurs</h4>\n",
    "<hr>"
   ]
  },
  {
   "cell_type": "markdown",
   "id": "16a724c9-664a-4244-a031-938bc521561e",
   "metadata": {},
   "source": [
    "<h2>Question 3</h2>\n",
    "<h3>Does the weather condition affect the severity of the accident?</h3>"
   ]
  },
  {
   "cell_type": "code",
   "execution_count": 11,
   "id": "753df700-6415-4a8e-bac0-dac405aa6176",
   "metadata": {},
   "outputs": [
    {
     "data": {
      "text/html": [
       "<div>\n",
       "<style scoped>\n",
       "    .dataframe tbody tr th:only-of-type {\n",
       "        vertical-align: middle;\n",
       "    }\n",
       "\n",
       "    .dataframe tbody tr th {\n",
       "        vertical-align: top;\n",
       "    }\n",
       "\n",
       "    .dataframe thead th {\n",
       "        text-align: right;\n",
       "    }\n",
       "</style>\n",
       "<table border=\"1\" class=\"dataframe\">\n",
       "  <thead>\n",
       "    <tr style=\"text-align: right;\">\n",
       "      <th>Accident_Severity</th>\n",
       "      <th>Fatal</th>\n",
       "      <th>Serious</th>\n",
       "      <th>Slight</th>\n",
       "    </tr>\n",
       "    <tr>\n",
       "      <th>Weather_Conditions</th>\n",
       "      <th></th>\n",
       "      <th></th>\n",
       "      <th></th>\n",
       "    </tr>\n",
       "  </thead>\n",
       "  <tbody>\n",
       "    <tr>\n",
       "      <th>Fine + high winds</th>\n",
       "      <td>175</td>\n",
       "      <td>1245</td>\n",
       "      <td>7134</td>\n",
       "    </tr>\n",
       "    <tr>\n",
       "      <th>Fine no high winds</th>\n",
       "      <td>7207</td>\n",
       "      <td>73285</td>\n",
       "      <td>454521</td>\n",
       "    </tr>\n",
       "    <tr>\n",
       "      <th>Fog or mist</th>\n",
       "      <td>82</td>\n",
       "      <td>483</td>\n",
       "      <td>2963</td>\n",
       "    </tr>\n",
       "    <tr>\n",
       "      <th>Other</th>\n",
       "      <td>165</td>\n",
       "      <td>1801</td>\n",
       "      <td>15184</td>\n",
       "    </tr>\n",
       "    <tr>\n",
       "      <th>Raining + high winds</th>\n",
       "      <td>145</td>\n",
       "      <td>1261</td>\n",
       "      <td>8209</td>\n",
       "    </tr>\n",
       "    <tr>\n",
       "      <th>Raining no high winds</th>\n",
       "      <td>848</td>\n",
       "      <td>9468</td>\n",
       "      <td>69380</td>\n",
       "    </tr>\n",
       "    <tr>\n",
       "      <th>Snowing + high winds</th>\n",
       "      <td>3</td>\n",
       "      <td>109</td>\n",
       "      <td>773</td>\n",
       "    </tr>\n",
       "    <tr>\n",
       "      <th>Snowing no high winds</th>\n",
       "      <td>36</td>\n",
       "      <td>565</td>\n",
       "      <td>5637</td>\n",
       "    </tr>\n",
       "  </tbody>\n",
       "</table>\n",
       "</div>"
      ],
      "text/plain": [
       "Accident_Severity      Fatal  Serious  Slight\n",
       "Weather_Conditions                           \n",
       "Fine + high winds        175     1245    7134\n",
       "Fine no high winds      7207    73285  454521\n",
       "Fog or mist               82      483    2963\n",
       "Other                    165     1801   15184\n",
       "Raining + high winds     145     1261    8209\n",
       "Raining no high winds    848     9468   69380\n",
       "Snowing + high winds       3      109     773\n",
       "Snowing no high winds     36      565    5637"
      ]
     },
     "execution_count": 11,
     "metadata": {},
     "output_type": "execute_result"
    }
   ],
   "source": [
    "bobo = data.groupby(['Weather_Conditions', 'Accident_Severity']).size().unstack(fill_value=0)\n",
    "bobo"
   ]
  },
  {
   "cell_type": "markdown",
   "id": "b2b4a93f-797b-4668-b0eb-b6d772612e5e",
   "metadata": {},
   "source": [
    "<h3>Insight 3:</h3>\n",
    "<h4>We can see that weather Conditions plays a significant role in the severity of an accident.</h4>\n",
    "<hr>"
   ]
  },
  {
   "cell_type": "markdown",
   "id": "c133e498-a4f3-4794-92b8-2102cbc43210",
   "metadata": {},
   "source": [
    "<h2>Question 4</h2>\n",
    "<h3>Where do Serious Accidents mostly occur? Is it on Urban or Rural areas?</h3>"
   ]
  },
  {
   "cell_type": "code",
   "execution_count": 12,
   "id": "64859fb4-1b9d-490a-90f1-4c8edfe6d8d4",
   "metadata": {},
   "outputs": [
    {
     "data": {
      "text/plain": [
       "Urban_or_Rural_Area\n",
       "Urban          50904\n",
       "Rural          37312\n",
       "Unallocated        1\n",
       "Name: count, dtype: int64"
      ]
     },
     "execution_count": 12,
     "metadata": {},
     "output_type": "execute_result"
    }
   ],
   "source": [
    "severe_accidents = data[data['Accident_Severity'] == 'Serious']\n",
    "\n",
    "severe_accidents['Urban_or_Rural_Area'].value_counts()"
   ]
  },
  {
   "cell_type": "markdown",
   "id": "f2b31f7c-5451-467e-b081-1273e3988779",
   "metadata": {},
   "source": [
    "<h3>Insight 4:</h3>\n",
    "<h4>The data analysis shown above says that Serious accidents usually happen in Urban areas</h4>\n",
    "<hr>"
   ]
  },
  {
   "cell_type": "markdown",
   "id": "05476102-6c78-423d-aae2-8e81930d9e04",
   "metadata": {},
   "source": [
    "<h2>Question 5</h2>\n",
    "<h3>What is the most common weather condition during accidents?</h3>"
   ]
  },
  {
   "cell_type": "code",
   "execution_count": 13,
   "id": "0da6c84c-a803-48d3-a5a6-5a44c1e50a45",
   "metadata": {},
   "outputs": [
    {
     "data": {
      "text/plain": [
       "Weather_Conditions\n",
       "Fine no high winds       535013\n",
       "Raining no high winds     79696\n",
       "Other                     17150\n",
       "Raining + high winds       9615\n",
       "Fine + high winds          8554\n",
       "Snowing no high winds      6238\n",
       "Fog or mist                3528\n",
       "Snowing + high winds        885\n",
       "Name: count, dtype: int64"
      ]
     },
     "execution_count": 13,
     "metadata": {},
     "output_type": "execute_result"
    }
   ],
   "source": [
    "data[\"Weather_Conditions\"].value_counts()"
   ]
  },
  {
   "cell_type": "markdown",
   "id": "d1fd4451-6bbb-44e6-8121-a322e9604366",
   "metadata": {},
   "source": [
    "<h3>Insight 5:</h3>\n",
    "<h4>Most accidents happened in fine weather, suggesting driver behavior is a bigger factor than poor weather.</h4>\n",
    "<hr>"
   ]
  },
  {
   "cell_type": "markdown",
   "id": "10584a92-29ae-4677-8bc3-6de5f3817b06",
   "metadata": {},
   "source": [
    "<h2>Question 6</h2>\n",
    "<h3>Which vehicle type has the highest number of casualties?</h3>"
   ]
  },
  {
   "cell_type": "code",
   "execution_count": 14,
   "id": "e25c6f6c-c47c-4e71-aabd-8c58134e63d3",
   "metadata": {},
   "outputs": [
    {
     "data": {
      "text/plain": [
       "Vehicle_Type\n",
       "Car                                      676692\n",
       "Van / Goods 3.5 tonnes mgw or under       46271\n",
       "Bus or coach (17 or more pass seats)      34915\n",
       "Motorcycle over 500cc                     34879\n",
       "Goods 7.5 tonnes mgw and over             23397\n",
       "Motorcycle 125cc and under                20348\n",
       "Taxi/Private hire car                     18195\n",
       "Motorcycle over 125cc and up to 500cc     10286\n",
       "Motorcycle 50cc and under                 10167\n",
       "Goods over 3.5t. and under 7.5t            8308\n",
       "Other vehicle                              7554\n",
       "Minibus (8 - 16 passenger seats)           2659\n",
       "Agricultural vehicle                       2613\n",
       "Pedal cycle                                 270\n",
       "Data missing or out of range                  9\n",
       "Ridden horse                                  5\n",
       "Name: Number_of_Casualties, dtype: int64"
      ]
     },
     "execution_count": 14,
     "metadata": {},
     "output_type": "execute_result"
    }
   ],
   "source": [
    "data.groupby('Vehicle_Type')['Number_of_Casualties'].sum().sort_values(ascending=False)"
   ]
  },
  {
   "cell_type": "markdown",
   "id": "7751c53f-ddc5-4ac3-8c6a-6e72b0c4e45e",
   "metadata": {},
   "source": [
    "<h3>Insight 6:</h3>\n",
    "<h4>The data shows that cars contribute the most casualties.</h4>\n",
    "<hr>"
   ]
  },
  {
   "cell_type": "markdown",
   "id": "2e235195-5c31-4bcd-b7d0-8dc3f7d03392",
   "metadata": {},
   "source": [
    "<h2>Question 7</h2>\n",
    "<h3>What proportion of accidents occur in urban vs rural areas?</h3>"
   ]
  },
  {
   "cell_type": "code",
   "execution_count": 15,
   "id": "7f45bafa-a860-4dec-9a18-12ec7af606c8",
   "metadata": {},
   "outputs": [
    {
     "data": {
      "text/plain": [
       "Urban_or_Rural_Area\n",
       "Urban          63.824944\n",
       "Rural          36.173391\n",
       "Unallocated     0.001665\n",
       "Name: proportion, dtype: float64"
      ]
     },
     "execution_count": 15,
     "metadata": {},
     "output_type": "execute_result"
    }
   ],
   "source": [
    "data[\"Urban_or_Rural_Area\"].value_counts(normalize=True) * 100"
   ]
  },
  {
   "cell_type": "markdown",
   "id": "9176e34f-ad58-41c1-86b3-cd4e79c6ab2a",
   "metadata": {},
   "source": [
    "<h3>Insight 7:</h3>\n",
    "<h4>About two-thirds of accidents occurred in urban areas, likely because of heavier traffic.</h4>\n",
    "<hr>"
   ]
  },
  {
   "cell_type": "markdown",
   "id": "a4ff455f-98e0-4a8f-9c96-8f378b3346c4",
   "metadata": {},
   "source": [
    "<h2>Question 8</h2>\n",
    "<h3>Is there a correlation between the number of vehicle and the number of casualties?</h3>"
   ]
  },
  {
   "cell_type": "code",
   "execution_count": 16,
   "id": "ddf0ff2b-7004-414c-9db8-a1fba481eee3",
   "metadata": {},
   "outputs": [
    {
     "data": {
      "text/plain": [
       "np.float64(0.2288888612692756)"
      ]
     },
     "execution_count": 16,
     "metadata": {},
     "output_type": "execute_result"
    }
   ],
   "source": [
    "data['Number_of_Casualties'].corr(data['Number_of_Vehicles'])"
   ]
  },
  {
   "cell_type": "markdown",
   "id": "03b92c41-eaef-492a-8d25-27353d0a6d97",
   "metadata": {},
   "source": [
    "<h3>Insight 8:</h3>\n",
    "<h4>There is a positive correlation between number of vehicles and number of casualties</h4>\n",
    "<hr>"
   ]
  },
  {
   "cell_type": "markdown",
   "id": "578a5d70-424f-4a2c-b452-4e0202abf255",
   "metadata": {},
   "source": [
    "<h2>Question 9</h2>\n",
    "<h3>Which road type has the highest number of accidents?</h3>"
   ]
  },
  {
   "cell_type": "code",
   "execution_count": 17,
   "id": "0cad095a-624c-497b-862c-4ef182485a19",
   "metadata": {},
   "outputs": [
    {
     "data": {
      "text/plain": [
       "Road_Type\n",
       "Single carriageway    496663\n",
       "Dual carriageway       99424\n",
       "Roundabout             43992\n",
       "One way street         13559\n",
       "Slip road               7041\n",
       "Name: count, dtype: int64"
      ]
     },
     "execution_count": 17,
     "metadata": {},
     "output_type": "execute_result"
    }
   ],
   "source": [
    "data[\"Road_Type\"].value_counts()"
   ]
  },
  {
   "cell_type": "markdown",
   "id": "784b2a5e-6ed9-491b-8efa-45bdaa7e4ed5",
   "metadata": {},
   "source": [
    "<h3>Insight 9:</h3>\n",
    "<h4>Most accidents occurred on single carriageways, meaning it is more dangerous than others.\n",
    "</h4>\n",
    "<hr>"
   ]
  },
  {
   "cell_type": "markdown",
   "id": "ae233f08-015e-410f-886e-668100103ef8",
   "metadata": {},
   "source": [
    "<h2>Question 10</h2>\n",
    "<h3>In what light condition do accidents often happen?</h3>"
   ]
  },
  {
   "cell_type": "code",
   "execution_count": 18,
   "id": "424d8641-29b2-4b86-b177-c87342aecaa5",
   "metadata": {},
   "outputs": [
    {
     "data": {
      "text/plain": [
       "Light_Conditions\n",
       "Daylight                       484880\n",
       "Darkness - lights lit          129335\n",
       "Darkness - no lighting          37437\n",
       "Darkness - lighting unknown      6484\n",
       "Darkness - lights unlit          2543\n",
       "Name: count, dtype: int64"
      ]
     },
     "execution_count": 18,
     "metadata": {},
     "output_type": "execute_result"
    }
   ],
   "source": [
    "data['Light_Conditions'].value_counts()"
   ]
  },
  {
   "cell_type": "markdown",
   "id": "1e65b6e3-986f-43dc-90e8-21ed64986c1e",
   "metadata": {},
   "source": [
    "<h3>Insight 10:</h3>\n",
    "<h4>The data analysis shown above says that its usually in Daylight that most accidents in the UK happends.\n",
    "</h4>\n",
    "<hr>"
   ]
  },
  {
   "cell_type": "markdown",
   "id": "c46f7e25-4598-4f26-9d68-1ba290f8ac34",
   "metadata": {},
   "source": [
    "<h2>Question 11</h2>\n",
    "<h3>Which weather condition has the highest average number of casualties?</h3>"
   ]
  },
  {
   "cell_type": "code",
   "execution_count": 19,
   "id": "678f6faf-2393-4417-b4d6-b557a02d524f",
   "metadata": {
    "scrolled": true
   },
   "outputs": [
    {
     "data": {
      "text/plain": [
       "Weather_Conditions\n",
       "Fine + high winds        1.386018\n",
       "Fine no high winds       1.347397\n",
       "Fog or mist              1.452948\n",
       "Other                    1.354869\n",
       "Raining + high winds     1.416641\n",
       "Raining no high winds    1.408214\n",
       "Snowing + high winds     1.418079\n",
       "Snowing no high winds    1.341776\n",
       "Name: Number_of_Casualties, dtype: float64"
      ]
     },
     "execution_count": 19,
     "metadata": {},
     "output_type": "execute_result"
    }
   ],
   "source": [
    "data.groupby(\"Weather_Conditions\")[\"Number_of_Casualties\"].mean()"
   ]
  },
  {
   "cell_type": "markdown",
   "id": "dd1f715e-db0a-4533-be0c-ef4bb57f22c0",
   "metadata": {},
   "source": [
    "<h3>Insight 11:</h3>\n",
    "<h4>The highest average casualties per accident happen during fog or mist, showing low visibility is particularly dangerous.\n",
    "</h4>\n",
    "<hr>"
   ]
  },
  {
   "cell_type": "markdown",
   "id": "195445ef-fdf8-430f-bac8-7310503fa994",
   "metadata": {},
   "source": [
    "<h2>Question 12</h2>\n",
    "<h3>Which district area had the most casualties in an accident?</h3>"
   ]
  },
  {
   "cell_type": "code",
   "execution_count": 20,
   "id": "f7e8858f-3b1d-46f3-ab9b-aa54f7a2dc33",
   "metadata": {},
   "outputs": [
    {
     "data": {
      "text/html": [
       "<div>\n",
       "<style scoped>\n",
       "    .dataframe tbody tr th:only-of-type {\n",
       "        vertical-align: middle;\n",
       "    }\n",
       "\n",
       "    .dataframe tbody tr th {\n",
       "        vertical-align: top;\n",
       "    }\n",
       "\n",
       "    .dataframe thead th {\n",
       "        text-align: right;\n",
       "    }\n",
       "</style>\n",
       "<table border=\"1\" class=\"dataframe\">\n",
       "  <thead>\n",
       "    <tr style=\"text-align: right;\">\n",
       "      <th></th>\n",
       "      <th>Index</th>\n",
       "      <th>Accident_Severity</th>\n",
       "      <th>Accident Date</th>\n",
       "      <th>Latitude</th>\n",
       "      <th>Light_Conditions</th>\n",
       "      <th>District Area</th>\n",
       "      <th>Longitude</th>\n",
       "      <th>Number_of_Casualties</th>\n",
       "      <th>Number_of_Vehicles</th>\n",
       "      <th>Road_Surface_Conditions</th>\n",
       "      <th>Road_Type</th>\n",
       "      <th>Urban_or_Rural_Area</th>\n",
       "      <th>Weather_Conditions</th>\n",
       "      <th>Vehicle_Type</th>\n",
       "    </tr>\n",
       "  </thead>\n",
       "  <tbody>\n",
       "    <tr>\n",
       "      <th>117980</th>\n",
       "      <td>200743N002017</td>\n",
       "      <td>Fatal</td>\n",
       "      <td>3/1/2019</td>\n",
       "      <td>51.497547</td>\n",
       "      <td>Darkness - lights lit</td>\n",
       "      <td>South Bucks</td>\n",
       "      <td>-0.496697</td>\n",
       "      <td>68</td>\n",
       "      <td>1</td>\n",
       "      <td>Wet or damp</td>\n",
       "      <td>Slip road</td>\n",
       "      <td>Rural</td>\n",
       "      <td>Raining no high winds</td>\n",
       "      <td>Car</td>\n",
       "    </tr>\n",
       "  </tbody>\n",
       "</table>\n",
       "</div>"
      ],
      "text/plain": [
       "                Index Accident_Severity Accident Date   Latitude  \\\n",
       "117980  200743N002017             Fatal      3/1/2019  51.497547   \n",
       "\n",
       "             Light_Conditions District Area  Longitude  Number_of_Casualties  \\\n",
       "117980  Darkness - lights lit   South Bucks  -0.496697                    68   \n",
       "\n",
       "        Number_of_Vehicles Road_Surface_Conditions  Road_Type  \\\n",
       "117980                   1             Wet or damp  Slip road   \n",
       "\n",
       "       Urban_or_Rural_Area     Weather_Conditions Vehicle_Type  \n",
       "117980               Rural  Raining no high winds          Car  "
      ]
     },
     "execution_count": 20,
     "metadata": {},
     "output_type": "execute_result"
    }
   ],
   "source": [
    "highest_casualties = data['Number_of_Casualties'].max()\n",
    "data[data['Number_of_Casualties'] == highest_casualties]"
   ]
  },
  {
   "cell_type": "markdown",
   "id": "9b56565f-1556-4b1b-8f49-1a14be6bb3d1",
   "metadata": {},
   "source": [
    "<h3>Insight 12:</h3>\n",
    "<h4>The data analysis shown above says that the accident with the most casualties ever recorded in the dataset is in South Bucks district.</h4>\n",
    "<hr>"
   ]
  },
  {
   "cell_type": "markdown",
   "id": "0a7a2539-669e-475d-aaf5-02e4b70a8fd8",
   "metadata": {},
   "source": [
    "<h2>Question 13</h2>\n",
    "<h3>What's the average number of casualties by the severity of accident?</h3>"
   ]
  },
  {
   "cell_type": "code",
   "execution_count": 21,
   "id": "cc081377-5956-4b52-bbb6-864da78c1d2b",
   "metadata": {},
   "outputs": [
    {
     "data": {
      "text/plain": [
       "Accident_Severity\n",
       "Fatal      1.90\n",
       "Serious    1.47\n",
       "Slight     1.33\n",
       "Name: Number_of_Casualties, dtype: float64"
      ]
     },
     "execution_count": 21,
     "metadata": {},
     "output_type": "execute_result"
    }
   ],
   "source": [
    "np.round(data.groupby('Accident_Severity')['Number_of_Casualties'].mean(),2)"
   ]
  },
  {
   "cell_type": "markdown",
   "id": "3397bdea-0adb-4901-86d0-41e18b2592bc",
   "metadata": {},
   "source": [
    "<h3>Insight 13:</h3>\n",
    "<h4>The data above shows that the average number of casualties, be it in every severity of accidents does not exceeds to more than 2.</h4>\n",
    "<hr>"
   ]
  },
  {
   "cell_type": "markdown",
   "id": "41d278df-1fa4-4f69-a359-4dd0e5a5c090",
   "metadata": {},
   "source": [
    "<h2>Question 14</h2>\n",
    "<h3>Which road surface condition has the highest accident severity?</h3>"
   ]
  },
  {
   "cell_type": "code",
   "execution_count": 22,
   "id": "74e51443-0837-46d9-951e-93e74d4ddb5c",
   "metadata": {},
   "outputs": [
    {
     "data": {
      "text/plain": [
       "Road_Surface_Conditions  Accident_Severity\n",
       "Dry                      Slight               381049\n",
       "                         Serious               61708\n",
       "                         Fatal                  5790\n",
       "Flood over 3cm. deep     Slight                  842\n",
       "                         Serious                 152\n",
       "                         Fatal                    23\n",
       "Frost or ice             Slight                16317\n",
       "                         Serious                2007\n",
       "                         Fatal                   193\n",
       "Snow                     Slight                 5290\n",
       "                         Serious                 565\n",
       "                         Fatal                    35\n",
       "Wet or damp              Slight               160303\n",
       "                         Serious               23785\n",
       "                         Fatal                  2620\n",
       "Name: count, dtype: int64"
      ]
     },
     "execution_count": 22,
     "metadata": {},
     "output_type": "execute_result"
    }
   ],
   "source": [
    "data.groupby(\"Road_Surface_Conditions\")[\"Accident_Severity\"].value_counts()"
   ]
  },
  {
   "cell_type": "markdown",
   "id": "96723bd7-5242-4685-8e70-5210e683d1fa",
   "metadata": {},
   "source": [
    "<h3>Insight 14:</h3>\n",
    "<h4>Accidents on dry roads happens more frequently, but wet/icy conditions increase the likelihood of serious or fatal accidents..</h4>\n",
    "<hr>"
   ]
  },
  {
   "cell_type": "markdown",
   "id": "7f5d599a-5591-45d5-8dd7-63e475ea391d",
   "metadata": {},
   "source": [
    "<h2>Question 15</h2>\n",
    "<h3>In Urban areas, what type of road surface condition has the most accident happen? </h3>"
   ]
  },
  {
   "cell_type": "code",
   "execution_count": 23,
   "id": "9be63b44-1835-45ca-a65d-7d54aa74daf1",
   "metadata": {},
   "outputs": [
    {
     "data": {
      "text/plain": [
       "Road_Surface_Conditions\n",
       "Dry                     303397\n",
       "Wet or damp             107698\n",
       "Frost or ice              7564\n",
       "Snow                      2788\n",
       "Flood over 3cm. deep       231\n",
       "Name: count, dtype: int64"
      ]
     },
     "execution_count": 23,
     "metadata": {},
     "output_type": "execute_result"
    }
   ],
   "source": [
    "urban_area = data[data['Urban_or_Rural_Area'] == 'Urban']\n",
    "\n",
    "urban_area['Road_Surface_Conditions'].value_counts()"
   ]
  },
  {
   "cell_type": "markdown",
   "id": "1dd120af-792f-42cd-88d5-cf53b97483c2",
   "metadata": {},
   "source": [
    "<h3>Insight 15:</h3>\n",
    "<h4>Accidents mostly happens on dry roads in Urban areas.</h4>\n",
    "<hr>"
   ]
  },
  {
   "cell_type": "markdown",
   "id": "ac2b2df1-580d-4fee-abec-2d5a3fa6dfd0",
   "metadata": {},
   "source": [
    "<h2>Question 16</h2>\n",
    "<h3>Does the weather condition affect the severity of the accident?</h3>"
   ]
  },
  {
   "cell_type": "code",
   "execution_count": 24,
   "id": "bff2c658-1b97-45cc-bdf9-47f27208c4d6",
   "metadata": {},
   "outputs": [
    {
     "data": {
      "text/html": [
       "<div>\n",
       "<style scoped>\n",
       "    .dataframe tbody tr th:only-of-type {\n",
       "        vertical-align: middle;\n",
       "    }\n",
       "\n",
       "    .dataframe tbody tr th {\n",
       "        vertical-align: top;\n",
       "    }\n",
       "\n",
       "    .dataframe thead th {\n",
       "        text-align: right;\n",
       "    }\n",
       "</style>\n",
       "<table border=\"1\" class=\"dataframe\">\n",
       "  <thead>\n",
       "    <tr style=\"text-align: right;\">\n",
       "      <th></th>\n",
       "      <th>count</th>\n",
       "      <th>unique</th>\n",
       "      <th>top</th>\n",
       "      <th>freq</th>\n",
       "    </tr>\n",
       "    <tr>\n",
       "      <th>Accident_Severity</th>\n",
       "      <th></th>\n",
       "      <th></th>\n",
       "      <th></th>\n",
       "      <th></th>\n",
       "    </tr>\n",
       "  </thead>\n",
       "  <tbody>\n",
       "    <tr>\n",
       "      <th>Fatal</th>\n",
       "      <td>8661</td>\n",
       "      <td>8</td>\n",
       "      <td>Fine no high winds</td>\n",
       "      <td>7207</td>\n",
       "    </tr>\n",
       "    <tr>\n",
       "      <th>Serious</th>\n",
       "      <td>88217</td>\n",
       "      <td>8</td>\n",
       "      <td>Fine no high winds</td>\n",
       "      <td>73285</td>\n",
       "    </tr>\n",
       "    <tr>\n",
       "      <th>Slight</th>\n",
       "      <td>563801</td>\n",
       "      <td>8</td>\n",
       "      <td>Fine no high winds</td>\n",
       "      <td>454521</td>\n",
       "    </tr>\n",
       "  </tbody>\n",
       "</table>\n",
       "</div>"
      ],
      "text/plain": [
       "                    count unique                 top    freq\n",
       "Accident_Severity                                           \n",
       "Fatal                8661      8  Fine no high winds    7207\n",
       "Serious             88217      8  Fine no high winds   73285\n",
       "Slight             563801      8  Fine no high winds  454521"
      ]
     },
     "execution_count": 24,
     "metadata": {},
     "output_type": "execute_result"
    }
   ],
   "source": [
    "data.groupby('Accident_Severity')['Weather_Conditions'].describe()"
   ]
  },
  {
   "cell_type": "markdown",
   "id": "f3b13332-43d5-4939-a91b-9951e912536b",
   "metadata": {},
   "source": [
    "<h3>Insight 16:</h3>\n",
    "<h4>The weather condition does not affect the assident's severity</h4>\n",
    "<hr>"
   ]
  },
  {
   "cell_type": "markdown",
   "id": "2c9ea2be-2368-45f5-b5c5-127e9ddd80d2",
   "metadata": {},
   "source": [
    "<h2>Question 17</h2>\n",
    "<h3>How many total accidents are in the dataset?</h3>"
   ]
  },
  {
   "cell_type": "code",
   "execution_count": 25,
   "id": "9394d89e-6491-47d2-a4a3-eed277d7b7f1",
   "metadata": {},
   "outputs": [
    {
     "data": {
      "text/plain": [
       "660679"
      ]
     },
     "execution_count": 25,
     "metadata": {},
     "output_type": "execute_result"
    }
   ],
   "source": [
    "len(data)"
   ]
  },
  {
   "cell_type": "markdown",
   "id": "f0ff3afd-dd52-4e93-a094-2d10a170118d",
   "metadata": {},
   "source": [
    "<h3>Insight 17:</h3>\n",
    "<h4>660,679 recorded accidents.</h4>\n",
    "<hr>"
   ]
  },
  {
   "cell_type": "markdown",
   "id": "ac1d1b6c-f04a-4d71-9bcb-a82e12ab6926",
   "metadata": {},
   "source": [
    "<h2>Question 18</h2>\n",
    "<h3>What is the average number of vehicles involved in accidents?</h3>"
   ]
  },
  {
   "cell_type": "code",
   "execution_count": 26,
   "id": "74f59344-7326-4e2a-b50a-517df61d18c0",
   "metadata": {},
   "outputs": [
    {
     "data": {
      "text/plain": [
       "np.float64(1.8312554205597575)"
      ]
     },
     "execution_count": 26,
     "metadata": {},
     "output_type": "execute_result"
    }
   ],
   "source": [
    "data[\"Number_of_Vehicles\"].mean()"
   ]
  },
  {
   "cell_type": "markdown",
   "id": "bc96fcf0-ebcd-435a-aa9f-3e2f72f52274",
   "metadata": {},
   "source": [
    "<h3>Insight 18:</h3>\n",
    "<h4>Most accidents involves only one vehicle</h4>\n",
    "<hr>"
   ]
  },
  {
   "cell_type": "markdown",
   "id": "bd6e52f0-5d7d-4f0b-9aee-7fc8f4b99e20",
   "metadata": {},
   "source": [
    "<h2>Question 19</h2>\n",
    "<h3>What is the maximum number of casualties recorded in a single accident?</h3>"
   ]
  },
  {
   "cell_type": "code",
   "execution_count": 27,
   "id": "82f5f62e-5035-4d21-8e7c-02a1104b021c",
   "metadata": {},
   "outputs": [
    {
     "data": {
      "text/plain": [
       "np.int64(68)"
      ]
     },
     "execution_count": 27,
     "metadata": {},
     "output_type": "execute_result"
    }
   ],
   "source": [
    "data[\"Number_of_Casualties\"].max()"
   ]
  },
  {
   "cell_type": "markdown",
   "id": "2e4bfbe1-66ec-4c99-bd18-fcf10e1e1a0b",
   "metadata": {},
   "source": [
    "<h3>Insight 19:</h3>\n",
    "<h4>Maximum number of casualties in a single accident: 68</h4>\n",
    "<hr>"
   ]
  },
  {
   "cell_type": "markdown",
   "id": "ddf07f7e-082b-436b-8fe6-df9e51fbd874",
   "metadata": {},
   "source": [
    "<h2>Question 20</h2>\n",
    "<h3>Which district area had the most accidents involving cars?</h3>"
   ]
  },
  {
   "cell_type": "code",
   "execution_count": 28,
   "id": "44c1a930-e66d-4204-b817-8a33b06dbf07",
   "metadata": {},
   "outputs": [
    {
     "data": {
      "text/plain": [
       "District Area\n",
       "Birmingham    9600\n",
       "Leeds         6875\n",
       "Manchester    5248\n",
       "Bradford      4749\n",
       "Sheffield     4306\n",
       "Name: count, dtype: int64"
      ]
     },
     "execution_count": 28,
     "metadata": {},
     "output_type": "execute_result"
    }
   ],
   "source": [
    "datas = data[data['Vehicle_Type'] == 'Car']['District Area'].value_counts().head(5)\n",
    "datas"
   ]
  },
  {
   "cell_type": "markdown",
   "id": "f961bf0a-642f-4eda-aec6-3c2710e88424",
   "metadata": {},
   "source": [
    "<h3>Insight 20:</h3>\n",
    "<h4>The data shows that Birmingham had the most car road accidents</h4>\n",
    "<hr>"
   ]
  },
  {
   "cell_type": "markdown",
   "id": "c9c67eba-34fe-4bbc-bd22-6e63523e27a9",
   "metadata": {},
   "source": [
    "<h2>Question 21</h2>\n",
    "<h3>Which district area had the most accidents with slight severity </h3>"
   ]
  },
  {
   "cell_type": "code",
   "execution_count": 29,
   "id": "5ab35e76-d928-4aa0-95a0-2ff841d97361",
   "metadata": {},
   "outputs": [
    {
     "data": {
      "text/plain": [
       "count         563801\n",
       "unique           422\n",
       "top       Birmingham\n",
       "freq           11912\n",
       "Name: District Area, dtype: object"
      ]
     },
     "execution_count": 29,
     "metadata": {},
     "output_type": "execute_result"
    }
   ],
   "source": [
    "slight_accidents = data[data['Accident_Severity'] == 'Slight']\n",
    "slight_accidents['District Area'].describe()"
   ]
  },
  {
   "cell_type": "markdown",
   "id": "4d0080ab-14e9-48e5-8509-b44d37ce1dde",
   "metadata": {},
   "source": [
    "<h3>Insight 21:</h3>\n",
    "<h4>The data shows that Birmingham had the most slightly severe accidents</h4>\n",
    "<hr>"
   ]
  },
  {
   "cell_type": "code",
   "execution_count": 30,
   "id": "b43eb522-f286-4520-a73d-e645d625187e",
   "metadata": {},
   "outputs": [],
   "source": [
    "data['Accident Date'] = data['Accident Date'].str.strip()\n",
    "data['Accident Date'] = data['Accident Date'].astype('str')\n",
    "data['Accident Date'] = data['Accident Date'].str.replace('/', '-')"
   ]
  },
  {
   "cell_type": "code",
   "execution_count": 31,
   "id": "968212e0-338f-45eb-b195-4416adf93870",
   "metadata": {},
   "outputs": [],
   "source": [
    "data['Accident Date'] = pd.to_datetime(data['Accident Date'], dayfirst = True, errors = 'coerce')"
   ]
  },
  {
   "cell_type": "code",
   "execution_count": 32,
   "id": "0652107c-8d99-4aab-b75f-7de5df3815d7",
   "metadata": {},
   "outputs": [
    {
     "data": {
      "text/plain": [
       "Index                              object\n",
       "Accident_Severity                category\n",
       "Accident Date              datetime64[ns]\n",
       "Latitude                          float64\n",
       "Light_Conditions                 category\n",
       "District Area                    category\n",
       "Longitude                         float64\n",
       "Number_of_Casualties                int64\n",
       "Number_of_Vehicles                  int64\n",
       "Road_Surface_Conditions          category\n",
       "Road_Type                        category\n",
       "Urban_or_Rural_Area              category\n",
       "Weather_Conditions               category\n",
       "Vehicle_Type                     category\n",
       "dtype: object"
      ]
     },
     "execution_count": 32,
     "metadata": {},
     "output_type": "execute_result"
    }
   ],
   "source": [
    "data.dtypes"
   ]
  },
  {
   "cell_type": "code",
   "execution_count": 33,
   "id": "cec0baa1-38d2-4181-b447-79a73c681159",
   "metadata": {},
   "outputs": [],
   "source": [
    "data['Year'] = data['Accident Date'].dt.year\n",
    "data['Month'] = data['Accident Date'].dt.month\n",
    "data['Day'] = data['Accident Date'].dt.day\n",
    "data['DayOfWeek'] = data['Accident Date'].dt.dayofweek"
   ]
  },
  {
   "cell_type": "code",
   "execution_count": 34,
   "id": "45cb991c-0129-4667-a407-b9bb7be49a6f",
   "metadata": {},
   "outputs": [
    {
     "data": {
      "text/plain": [
       "Index                      0\n",
       "Accident_Severity          0\n",
       "Accident Date              0\n",
       "Latitude                   0\n",
       "Light_Conditions           0\n",
       "District Area              0\n",
       "Longitude                  0\n",
       "Number_of_Casualties       0\n",
       "Number_of_Vehicles         0\n",
       "Road_Surface_Conditions    0\n",
       "Road_Type                  0\n",
       "Urban_or_Rural_Area        0\n",
       "Weather_Conditions         0\n",
       "Vehicle_Type               0\n",
       "Year                       0\n",
       "Month                      0\n",
       "Day                        0\n",
       "DayOfWeek                  0\n",
       "dtype: int64"
      ]
     },
     "execution_count": 34,
     "metadata": {},
     "output_type": "execute_result"
    }
   ],
   "source": [
    "data.isnull().sum()"
   ]
  },
  {
   "cell_type": "markdown",
   "id": "783d9796-0a06-4bc4-8a28-c4535a2c8ca7",
   "metadata": {},
   "source": [
    " <h2>Question 22</h2>\n",
    "<h3>What year had the most number of accident?</h3>"
   ]
  },
  {
   "cell_type": "code",
   "execution_count": 35,
   "id": "7d3fd313-cb48-4ab4-8647-c639a323d747",
   "metadata": {},
   "outputs": [
    {
     "data": {
      "text/plain": [
       "Accident Date\n",
       "2019    182115\n",
       "2020    170591\n",
       "2021    163554\n",
       "2022    144419\n",
       "Name: count, dtype: int64"
      ]
     },
     "execution_count": 35,
     "metadata": {},
     "output_type": "execute_result"
    }
   ],
   "source": [
    "data['Accident Date'].dt.year.value_counts()"
   ]
  },
  {
   "cell_type": "markdown",
   "id": "a848754f-062c-460a-bb23-62322e3d35b7",
   "metadata": {},
   "source": [
    "<h3>Insight 22:</h3>\n",
    "<h4>The data shows that the year 2019 had the most number of accident</h4>\n",
    "<hr>"
   ]
  },
  {
   "cell_type": "markdown",
   "id": "330fbd67-9ffd-4038-b403-cd7b3138c840",
   "metadata": {},
   "source": [
    " <h2>Question 23</h2>\n",
    "<h3>Is the month correlated to the road surface condition?</h3>"
   ]
  },
  {
   "cell_type": "code",
   "execution_count": 36,
   "id": "3bf5fa32-7935-4c2b-ad0d-b190e0a7137b",
   "metadata": {},
   "outputs": [
    {
     "data": {
      "text/html": [
       "<div>\n",
       "<style scoped>\n",
       "    .dataframe tbody tr th:only-of-type {\n",
       "        vertical-align: middle;\n",
       "    }\n",
       "\n",
       "    .dataframe tbody tr th {\n",
       "        vertical-align: top;\n",
       "    }\n",
       "\n",
       "    .dataframe thead th {\n",
       "        text-align: right;\n",
       "    }\n",
       "</style>\n",
       "<table border=\"1\" class=\"dataframe\">\n",
       "  <thead>\n",
       "    <tr style=\"text-align: right;\">\n",
       "      <th>Month</th>\n",
       "      <th>1</th>\n",
       "      <th>2</th>\n",
       "      <th>3</th>\n",
       "      <th>4</th>\n",
       "      <th>5</th>\n",
       "      <th>6</th>\n",
       "      <th>7</th>\n",
       "      <th>8</th>\n",
       "      <th>9</th>\n",
       "      <th>10</th>\n",
       "      <th>11</th>\n",
       "      <th>12</th>\n",
       "    </tr>\n",
       "    <tr>\n",
       "      <th>Road_Surface_Conditions</th>\n",
       "      <th></th>\n",
       "      <th></th>\n",
       "      <th></th>\n",
       "      <th></th>\n",
       "      <th></th>\n",
       "      <th></th>\n",
       "      <th></th>\n",
       "      <th></th>\n",
       "      <th></th>\n",
       "      <th></th>\n",
       "      <th></th>\n",
       "      <th></th>\n",
       "    </tr>\n",
       "  </thead>\n",
       "  <tbody>\n",
       "    <tr>\n",
       "      <th>Dry</th>\n",
       "      <td>22370</td>\n",
       "      <td>28340</td>\n",
       "      <td>40382</td>\n",
       "      <td>44460</td>\n",
       "      <td>46174</td>\n",
       "      <td>47029</td>\n",
       "      <td>43812</td>\n",
       "      <td>41580</td>\n",
       "      <td>45163</td>\n",
       "      <td>42577</td>\n",
       "      <td>28814</td>\n",
       "      <td>17846</td>\n",
       "    </tr>\n",
       "    <tr>\n",
       "      <th>Flood over 3cm. deep</th>\n",
       "      <td>142</td>\n",
       "      <td>48</td>\n",
       "      <td>48</td>\n",
       "      <td>24</td>\n",
       "      <td>55</td>\n",
       "      <td>109</td>\n",
       "      <td>124</td>\n",
       "      <td>80</td>\n",
       "      <td>69</td>\n",
       "      <td>70</td>\n",
       "      <td>152</td>\n",
       "      <td>96</td>\n",
       "    </tr>\n",
       "    <tr>\n",
       "      <th>Frost or ice</th>\n",
       "      <td>4770</td>\n",
       "      <td>3363</td>\n",
       "      <td>654</td>\n",
       "      <td>90</td>\n",
       "      <td>8</td>\n",
       "      <td>3</td>\n",
       "      <td>6</td>\n",
       "      <td>5</td>\n",
       "      <td>8</td>\n",
       "      <td>266</td>\n",
       "      <td>1480</td>\n",
       "      <td>7864</td>\n",
       "    </tr>\n",
       "    <tr>\n",
       "      <th>Snow</th>\n",
       "      <td>1366</td>\n",
       "      <td>1533</td>\n",
       "      <td>259</td>\n",
       "      <td>109</td>\n",
       "      <td>9</td>\n",
       "      <td>6</td>\n",
       "      <td>8</td>\n",
       "      <td>6</td>\n",
       "      <td>6</td>\n",
       "      <td>48</td>\n",
       "      <td>504</td>\n",
       "      <td>2036</td>\n",
       "    </tr>\n",
       "    <tr>\n",
       "      <th>Wet or damp</th>\n",
       "      <td>24224</td>\n",
       "      <td>16207</td>\n",
       "      <td>12743</td>\n",
       "      <td>7061</td>\n",
       "      <td>10106</td>\n",
       "      <td>9334</td>\n",
       "      <td>13495</td>\n",
       "      <td>12242</td>\n",
       "      <td>11209</td>\n",
       "      <td>16619</td>\n",
       "      <td>29474</td>\n",
       "      <td>23994</td>\n",
       "    </tr>\n",
       "  </tbody>\n",
       "</table>\n",
       "</div>"
      ],
      "text/plain": [
       "Month                       1      2      3      4      5      6      7   \\\n",
       "Road_Surface_Conditions                                                    \n",
       "Dry                      22370  28340  40382  44460  46174  47029  43812   \n",
       "Flood over 3cm. deep       142     48     48     24     55    109    124   \n",
       "Frost or ice              4770   3363    654     90      8      3      6   \n",
       "Snow                      1366   1533    259    109      9      6      8   \n",
       "Wet or damp              24224  16207  12743   7061  10106   9334  13495   \n",
       "\n",
       "Month                       8      9      10     11     12  \n",
       "Road_Surface_Conditions                                     \n",
       "Dry                      41580  45163  42577  28814  17846  \n",
       "Flood over 3cm. deep        80     69     70    152     96  \n",
       "Frost or ice                 5      8    266   1480   7864  \n",
       "Snow                         6      6     48    504   2036  \n",
       "Wet or damp              12242  11209  16619  29474  23994  "
      ]
     },
     "execution_count": 36,
     "metadata": {},
     "output_type": "execute_result"
    }
   ],
   "source": [
    "dffd = data.groupby(['Road_Surface_Conditions', 'Month']).size()\n",
    "dffd.unstack()"
   ]
  },
  {
   "cell_type": "markdown",
   "id": "9c3340a2-5e6f-4af4-95a2-4bc652d4c44b",
   "metadata": {},
   "source": [
    "<h3>Insight 23:</h3>\n",
    "<h4>The data shows that the month affects the road condition because of seasonal changes </h4>\n",
    "<hr>"
   ]
  },
  {
   "cell_type": "markdown",
   "id": "83fcadb9-74c0-48cd-83b3-95d2f463501c",
   "metadata": {},
   "source": [
    "<h3>Insight 24:</h3>\n",
    "<h4>We can see that frozen/snowy/wet roads is more frequent in the months of December to February because during these months, it's winter season in UK</h4>\n",
    "<hr>"
   ]
  },
  {
   "cell_type": "markdown",
   "id": "6bb73180-3761-4a41-8d07-6dd68b5b4b55",
   "metadata": {},
   "source": [
    " <h2>Question 24</h2>\n",
    "<h3>What day do accidents mostly happen?</h3>"
   ]
  },
  {
   "cell_type": "code",
   "execution_count": 37,
   "id": "f4cf9eff-77df-4eb2-b0a2-9f869e98433d",
   "metadata": {},
   "outputs": [],
   "source": [
    "import matplotlib.pyplot as plt"
   ]
  },
  {
   "cell_type": "code",
   "execution_count": 38,
   "id": "c0a5165d-712a-491b-9604-89d2a90a6e25",
   "metadata": {},
   "outputs": [
    {
     "data": {
      "image/png": "[encoded data removed]",
      "text/plain": [
       "<Figure size 640x480 with 1 Axes>"
      ]
     },
     "metadata": {},
     "output_type": "display_data"
    }
   ],
   "source": [
    "severity = data['DayOfWeek'].value_counts()\n",
    "\n",
    "plt.pie(severity, \n",
    "        labels = severity.index,\n",
    "        startangle= 90,\n",
    "        autopct = '%1.2f%%',\n",
    "        colors = ['Peru','Cornflowerblue','Darksalmon', 'red', 'yellow', 'pink', 'green'])\n",
    "plt.show()"
   ]
  },
  {
   "cell_type": "markdown",
   "id": "aebbfb4d-39ba-4680-928f-ac14c72d309c",
   "metadata": {},
   "source": [
    "<h3>Insight 25:</h3>\n",
    "<h4>Based on the chart above, accidents happen a lot during Saturdays, followed by Wednesday then Thursday </h4>\n",
    "<hr>"
   ]
  },
  {
   "cell_type": "markdown",
   "id": "2aa8eb1c-eb1d-4c14-8b20-8cd1902fb757",
   "metadata": {},
   "source": [
    "<h1 style='text-align: center;'>Data Visualization of 6 District Areas</h1>\n",
    "<hr>"
   ]
  },
  {
   "cell_type": "markdown",
   "id": "50266ff0-b376-4aa8-881f-e9669edd0165",
   "metadata": {},
   "source": [
    "<h2>Berwick-upon-Tweed Accidents Per Month</h2>\n",
    " "
   ]
  },
  {
   "cell_type": "code",
   "execution_count": 39,
   "id": "d780cebc-0d54-4005-b57b-9ac017aa2f54",
   "metadata": {},
   "outputs": [],
   "source": [
    "berwick = data[data['District Area'] == 'Berwick-upon-Tweed']"
   ]
  },
  {
   "cell_type": "code",
   "execution_count": 64,
   "id": "6d7a83ea-aee2-4c9f-98a2-b6a9e81e21f7",
   "metadata": {},
   "outputs": [
    {
     "data": {
      "image/png": "[encoded data removed]",
      "text/plain": [
       "<Figure size 1000x500 with 1 Axes>"
      ]
     },
     "metadata": {},
     "output_type": "display_data"
    }
   ],
   "source": [
    "berwick_monthly = berwick.groupby(['Year', 'Month']).size()\n",
    "\n",
    "berwick_monthly = berwick_monthly.unstack(level=0)\n",
    "\n",
    "berwick_monthly.plot(\n",
    "    marker='o', \n",
    "    figsize=(10, 5),\n",
    "    title='Monthly Road Accidents in Berwick-upon-Tweed by Year (2019-2022)'\n",
    ")\n",
    "plt.xticks(range(1, 13), ['Jan','Feb','Mar','Apr','May','Jun','Jul','Aug','Sep','Oct','Nov','Dec'])\n",
    "plt.grid(alpha=0.3)\n",
    "plt.legend(title='Yearly Accident Comparison', bbox_to_anchor = (1.05,1), loc='upper left')\n",
    "plt.show()"
   ]
  },
  {
   "cell_type": "markdown",
   "id": "ec1e3a8f-54e0-42b3-a2f8-abe5f16dc7a2",
   "metadata": {},
   "source": [
    "<h3>Insight 26:</h3>\n",
    "<h4>October consistently has the highest number of monthly road accidents, making it the most dangerous month for driving in Berwick-upon-Tweed. While accidents are generally lower in other months, they tend to spike significantly in October, reaching the highest points on the graph in both 2019 and 2020.</h4>\n",
    "<hr>"
   ]
  },
  {
   "cell_type": "markdown",
   "id": "ae69507c-6d13-4fb1-bcdd-ebe604b8ab05",
   "metadata": {},
   "source": [
    "<h2>Alnwick Accidents Per Month</h2>"
   ]
  },
  {
   "cell_type": "code",
   "execution_count": 73,
   "id": "3c1c30e2-5b35-40c1-bcd6-999e2f65e117",
   "metadata": {},
   "outputs": [],
   "source": [
    "Alnwick = data[(data['District Area'] == 'Alnwick') & (data['Vehicle_Type'] == 'Car')]"
   ]
  },
  {
   "cell_type": "code",
   "execution_count": 74,
   "id": "b4e99ab1-235b-4f82-878b-161ca9953053",
   "metadata": {},
   "outputs": [
    {
     "data": {
      "image/png": "[encoded data removed]",
      "text/plain": [
       "<Figure size 1000x500 with 1 Axes>"
      ]
     },
     "metadata": {},
     "output_type": "display_data"
    }
   ],
   "source": [
    "Alnwick_monthly = Alnwick.groupby(['Year', 'Month']).size()\n",
    "\n",
    "Alnwick_monthly = Alnwick_monthly.unstack(level=0)\n",
    "\n",
    "Alnwick_monthly.plot(\n",
    "    marker='o', \n",
    "    figsize=(10, 5),\n",
    "    title='Monthly Car Only Accidents in Alnwick by Year (2019-2022)'\n",
    ")\n",
    "plt.xticks(range(1, 13), ['Jan','Feb','Mar','Apr','May','Jun','Jul','Aug','Sep','Oct','Nov','Dec'])\n",
    "plt.grid(alpha=0.3)\n",
    "plt.legend(title='Yearly Accident Comparison', bbox_to_anchor = (1.05,1), loc='upper left')\n",
    "plt.show()"
   ]
  },
  {
   "cell_type": "markdown",
   "id": "ce911d84-d5ed-4686-9f74-b9167f6e6711",
   "metadata": {},
   "source": [
    "<h3>Insight 27:</h3>\n",
    "<h4>August and September were the most dangerous months for car-only accidents in 2019, The graph also shows a dramatic decrease in accidents in March across all years, suggesting it's the safest month for car-only travel in Alnwick. </h4>\n",
    "<hr>"
   ]
  },
  {
   "cell_type": "markdown",
   "id": "2843b4d9-8550-41bd-9547-5b94a021758f",
   "metadata": {},
   "source": [
    "<h2>Erewash Accidents Per Month</h2>"
   ]
  },
  {
   "cell_type": "code",
   "execution_count": 108,
   "id": "cb546306-a140-483d-b98f-af64dbf2d0d1",
   "metadata": {},
   "outputs": [],
   "source": [
    "Erewash = data[data['District Area'] == 'Erewash']"
   ]
  },
  {
   "cell_type": "code",
   "execution_count": 109,
   "id": "32df28d0-3198-41f7-a95f-18ce052da11a",
   "metadata": {},
   "outputs": [
    {
     "data": {
      "image/png": "[encoded data removed]",
      "text/plain": [
       "<Figure size 640x480 with 1 Axes>"
      ]
     },
     "metadata": {},
     "output_type": "display_data"
    }
   ],
   "source": [
    "\n",
    "accidents_per_month = Erewash['Month'].value_counts().sort_index()\n",
    "\n",
    "month_names = {\n",
    "    1: 'January', 2: 'February', 3: 'March', 4: 'April',\n",
    "    5: 'May', 6: 'June', 7: 'July', 8: 'August',\n",
    "    9: 'September', 10: 'October', 11: 'November', 12: 'December'\n",
    "}\n",
    "\n",
    "accidents_per_month.index = accidents_per_month.index.map(month_names)\n",
    "accidents_per_month.plot(kind='bar')\n",
    "plt.title('Accidents per Month in Erewash District')\n",
    "plt.xlabel('Month')\n",
    "plt.ylabel('Number of Accidents')\n",
    "plt.show()"
   ]
  },
  {
   "cell_type": "markdown",
   "id": "ff900b21-90fa-4709-b91f-c5469a45bd86",
   "metadata": {},
   "source": [
    "<h3>Insight 28:</h3>\n",
    "<h4>Based on the graph, Erewash has a consistent and stable number of accidents throughout the year, with no significant seasonal variation. The number of accidents in Erewash remains close to 100 in every month.</h4>\n",
    "<hr>"
   ]
  },
  {
   "cell_type": "code",
   "execution_count": 110,
   "id": "2b59fef4-8a6a-4eef-a55d-91b0cc7160b8",
   "metadata": {},
   "outputs": [],
   "source": [
    "import folium \n",
    "from folium.plugins import HeatMap"
   ]
  },
  {
   "cell_type": "markdown",
   "id": "eb49afc0-1354-4413-a18f-69defd33eadd",
   "metadata": {},
   "source": [
    "<h2>Fife Fatal Accidents Heat Map</h2>\n"
   ]
  },
  {
   "cell_type": "code",
   "execution_count": 113,
   "id": "73cdd549-25d9-4c08-aa31-ea40af2dfef1",
   "metadata": {},
   "outputs": [],
   "source": [
    "fife = data[data['District Area'] == 'Fife']\n",
    "fife_fatal = fife[fife['Accident_Severity'] == 'Fatal']"
   ]
  },
  {
   "cell_type": "code",
   "execution_count": 112,
   "id": "a9ce2876-2484-4f72-b5e8-2d77aa54a013",
   "metadata": {
    "scrolled": true
   },
   "outputs": [
    {
     "data": {
      "text/html": [
       "<div style=\"width:100%;\"><div style=\"position:relative;width:100%;height:0;padding-bottom:60%;\"><span style=\"color:#565656\">Make this Notebook Trusted to load map: File -> Trust Notebook</span><iframe srcdoc=\"&lt;!DOCTYPE html&gt;\n",
       "&lt;html&gt;\n",
       "&lt;head&gt;\n",
       "    \n",
       "    &lt;meta http-equiv=&quot;content-type&quot; content=&quot;text/html; charset=UTF-8&quot; /&gt;\n",
       "    &lt;script src=&quot;https://cdn.jsdelivr.net/npm/leaflet@1.9.3/dist/leaflet.js&quot;&gt;&lt;/script&gt;\n",
       "    &lt;script src=&quot;https://code.jquery.com/jquery-3.7.1.min.js&quot;&gt;&lt;/script&gt;\n",
       "    &lt;script src=&quot;https://cdn.jsdelivr.net/npm/bootstrap@5.2.2/dist/js/bootstrap.bundle.min.js&quot;&gt;&lt;/script&gt;\n",
       "    &lt;script src=&quot;https://cdnjs.cloudflare.com/ajax/libs/Leaflet.awesome-markers/2.0.2/leaflet.awesome-markers.js&quot;&gt;&lt;/script&gt;\n",
       "    &lt;link rel=&quot;stylesheet&quot; href=&quot;https://cdn.jsdelivr.net/npm/leaflet@1.9.3/dist/leaflet.css&quot;/&gt;\n",
       "    &lt;link rel=&quot;stylesheet&quot; href=&quot;https://cdn.jsdelivr.net/npm/bootstrap@5.2.2/dist/css/bootstrap.min.css&quot;/&gt;\n",
       "    &lt;link rel=&quot;stylesheet&quot; href=&quot;https://netdna.bootstrapcdn.com/bootstrap/3.0.0/css/bootstrap-glyphicons.css&quot;/&gt;\n",
       "    &lt;link rel=&quot;stylesheet&quot; href=&quot;https://cdn.jsdelivr.net/npm/@fortawesome/fontawesome-free@6.2.0/css/all.min.css&quot;/&gt;\n",
       "    &lt;link rel=&quot;stylesheet&quot; href=&quot;https://cdnjs.cloudflare.com/ajax/libs/Leaflet.awesome-markers/2.0.2/leaflet.awesome-markers.css&quot;/&gt;\n",
       "    &lt;link rel=&quot;stylesheet&quot; href=&quot;https://cdn.jsdelivr.net/gh/python-visualization/folium/folium/templates/leaflet.awesome.rotate.min.css&quot;/&gt;\n",
       "    \n",
       "            &lt;meta name=&quot;viewport&quot; content=&quot;width=device-width,\n",
       "                initial-scale=1.0, maximum-scale=1.0, user-scalable=no&quot; /&gt;\n",
       "            &lt;style&gt;\n",
       "                #map_83f138d8a094130cc706136d04556735 {\n",
       "                    position: relative;\n",
       "                    width: 100.0%;\n",
       "                    height: 100.0%;\n",
       "                    left: 0.0%;\n",
       "                    top: 0.0%;\n",
       "                }\n",
       "                .leaflet-container { font-size: 1rem; }\n",
       "            &lt;/style&gt;\n",
       "\n",
       "            &lt;style&gt;html, body {\n",
       "                width: 100%;\n",
       "                height: 100%;\n",
       "                margin: 0;\n",
       "                padding: 0;\n",
       "            }\n",
       "            &lt;/style&gt;\n",
       "\n",
       "            &lt;style&gt;#map {\n",
       "                position:absolute;\n",
       "                top:0;\n",
       "                bottom:0;\n",
       "                right:0;\n",
       "                left:0;\n",
       "                }\n",
       "            &lt;/style&gt;\n",
       "\n",
       "            &lt;script&gt;\n",
       "                L_NO_TOUCH = false;\n",
       "                L_DISABLE_3D = false;\n",
       "            &lt;/script&gt;\n",
       "\n",
       "        \n",
       "    &lt;script src=&quot;https://cdn.jsdelivr.net/gh/python-visualization/folium@main/folium/templates/leaflet_heat.min.js&quot;&gt;&lt;/script&gt;\n",
       "&lt;/head&gt;\n",
       "&lt;body&gt;\n",
       "    \n",
       "    \n",
       "            &lt;div class=&quot;folium-map&quot; id=&quot;map_83f138d8a094130cc706136d04556735&quot; &gt;&lt;/div&gt;\n",
       "        \n",
       "&lt;/body&gt;\n",
       "&lt;script&gt;\n",
       "    \n",
       "    \n",
       "            var map_83f138d8a094130cc706136d04556735 = L.map(\n",
       "                &quot;map_83f138d8a094130cc706136d04556735&quot;,\n",
       "                {\n",
       "                    center: [56.198695275862065, -3.1175928620689652],\n",
       "                    crs: L.CRS.EPSG3857,\n",
       "                    ...{\n",
       "  &quot;zoom&quot;: 10,\n",
       "  &quot;zoomControl&quot;: true,\n",
       "  &quot;preferCanvas&quot;: false,\n",
       "}\n",
       "\n",
       "                }\n",
       "            );\n",
       "\n",
       "            \n",
       "\n",
       "        \n",
       "    \n",
       "            var tile_layer_e8971e5a362091f5b74c5b102011af6f = L.tileLayer(\n",
       "                &quot;https://tile.openstreetmap.org/{z}/{x}/{y}.png&quot;,\n",
       "                {\n",
       "  &quot;minZoom&quot;: 0,\n",
       "  &quot;maxZoom&quot;: 19,\n",
       "  &quot;maxNativeZoom&quot;: 19,\n",
       "  &quot;noWrap&quot;: false,\n",
       "  &quot;attribution&quot;: &quot;\\u0026copy; \\u003ca href=\\&quot;https://www.openstreetmap.org/copyright\\&quot;\\u003eOpenStreetMap\\u003c/a\\u003e contributors&quot;,\n",
       "  &quot;subdomains&quot;: &quot;abc&quot;,\n",
       "  &quot;detectRetina&quot;: false,\n",
       "  &quot;tms&quot;: false,\n",
       "  &quot;opacity&quot;: 1,\n",
       "}\n",
       "\n",
       "            );\n",
       "        \n",
       "    \n",
       "            tile_layer_e8971e5a362091f5b74c5b102011af6f.addTo(map_83f138d8a094130cc706136d04556735);\n",
       "        \n",
       "    \n",
       "            var heat_map_c4ae4a02e3f7d38620bfa927bad50935 = L.heatLayer(\n",
       "                [[56.206255, -3.019396], [56.056065, -3.454468], [56.166406, -3.08791], [56.102503, -3.353318], [56.154566, -3.220394], [56.317708, -3.036429], [56.320608, -2.869647], [56.106832, -3.195086], [56.142601, -3.212773], [56.143715, -3.171766], [56.204181, -3.009347], [56.287479, -3.227534], [56.071623, -3.430313], [56.358543, -2.866949], [56.321746, -2.750669], [56.282624, -3.052117], [55.997609, -3.404328], [56.328503, -2.979634], [56.239686, -3.170984], [56.05332, -3.450992], [56.10522, -3.334923], [56.308973, -3.07046], [56.099889, -3.329272], [56.35863, -2.867275], [56.176991, -3.224327], [56.186505, -3.160179], [56.249028, -2.644509], [56.238351, -2.675467], [56.176003, -3.139727]],\n",
       "                {\n",
       "  &quot;minOpacity&quot;: 0.5,\n",
       "  &quot;maxZoom&quot;: 18,\n",
       "  &quot;radius&quot;: 25,\n",
       "  &quot;blur&quot;: 15,\n",
       "}\n",
       "            );\n",
       "        \n",
       "    \n",
       "            heat_map_c4ae4a02e3f7d38620bfa927bad50935.addTo(map_83f138d8a094130cc706136d04556735);\n",
       "        \n",
       "    \n",
       "            tile_layer_e8971e5a362091f5b74c5b102011af6f.addTo(map_83f138d8a094130cc706136d04556735);\n",
       "        \n",
       "    \n",
       "            heat_map_c4ae4a02e3f7d38620bfa927bad50935.addTo(map_83f138d8a094130cc706136d04556735);\n",
       "        \n",
       "&lt;/script&gt;\n",
       "&lt;/html&gt;\" style=\"position:absolute;width:100%;height:100%;left:0;top:0;border:none !important;\" allowfullscreen webkitallowfullscreen mozallowfullscreen></iframe></div></div>"
      ],
      "text/plain": [
       "<folium.folium.Map at 0x272cf1ad310>"
      ]
     },
     "execution_count": 112,
     "metadata": {},
     "output_type": "execute_result"
    }
   ],
   "source": [
    "locations  = list(zip(fife_fatal['Latitude'],fife_fatal['Longitude']))\n",
    "m = folium.Map(location=[fife_fatal['Latitude'].mean(), fife_fatal['Longitude'].mean()], zoom_start=10)\n",
    "HeatMap(locations).add_to(m)\n",
    "m.save('accident_heatmap.html')  \n",
    "m  "
   ]
  },
  {
   "cell_type": "markdown",
   "id": "8cb45248-a0f6-4074-a3c4-feb02673654e",
   "metadata": {},
   "source": [
    "<h3>Insight 29:</h3>\n",
    "<h4>Based on the heatmap, the highest concentration of incidents is along the A92 corridor connecting Dunfermline, Kirkcaldy, and Glenrothes. There are also significant clusters on the A91 near Cupar and St Andrews and on the coastal route near Crail. This data suggests that most fatal accidents are not random but are highly concentrated on these key major roads.</h4>\n",
    "<hr>"
   ]
  },
  {
   "cell_type": "markdown",
   "id": "80c29e3f-3fbf-45b4-a6f9-07dd8b4bbf4b",
   "metadata": {},
   "source": [
    "<h2>Falkirk Fatal Car Accidents Heat Map</h2>"
   ]
  },
  {
   "cell_type": "code",
   "execution_count": 122,
   "id": "02a832fe-7d6b-4ace-a012-b7209a596b9c",
   "metadata": {},
   "outputs": [
    {
     "data": {
      "text/html": [
       "<div style=\"width:100%;\"><div style=\"position:relative;width:100%;height:0;padding-bottom:60%;\"><span style=\"color:#565656\">Make this Notebook Trusted to load map: File -> Trust Notebook</span><iframe srcdoc=\"&lt;!DOCTYPE html&gt;\n",
       "&lt;html&gt;\n",
       "&lt;head&gt;\n",
       "    \n",
       "    &lt;meta http-equiv=&quot;content-type&quot; content=&quot;text/html; charset=UTF-8&quot; /&gt;\n",
       "    &lt;script src=&quot;https://cdn.jsdelivr.net/npm/leaflet@1.9.3/dist/leaflet.js&quot;&gt;&lt;/script&gt;\n",
       "    &lt;script src=&quot;https://code.jquery.com/jquery-3.7.1.min.js&quot;&gt;&lt;/script&gt;\n",
       "    &lt;script src=&quot;https://cdn.jsdelivr.net/npm/bootstrap@5.2.2/dist/js/bootstrap.bundle.min.js&quot;&gt;&lt;/script&gt;\n",
       "    &lt;script src=&quot;https://cdnjs.cloudflare.com/ajax/libs/Leaflet.awesome-markers/2.0.2/leaflet.awesome-markers.js&quot;&gt;&lt;/script&gt;\n",
       "    &lt;link rel=&quot;stylesheet&quot; href=&quot;https://cdn.jsdelivr.net/npm/leaflet@1.9.3/dist/leaflet.css&quot;/&gt;\n",
       "    &lt;link rel=&quot;stylesheet&quot; href=&quot;https://cdn.jsdelivr.net/npm/bootstrap@5.2.2/dist/css/bootstrap.min.css&quot;/&gt;\n",
       "    &lt;link rel=&quot;stylesheet&quot; href=&quot;https://netdna.bootstrapcdn.com/bootstrap/3.0.0/css/bootstrap-glyphicons.css&quot;/&gt;\n",
       "    &lt;link rel=&quot;stylesheet&quot; href=&quot;https://cdn.jsdelivr.net/npm/@fortawesome/fontawesome-free@6.2.0/css/all.min.css&quot;/&gt;\n",
       "    &lt;link rel=&quot;stylesheet&quot; href=&quot;https://cdnjs.cloudflare.com/ajax/libs/Leaflet.awesome-markers/2.0.2/leaflet.awesome-markers.css&quot;/&gt;\n",
       "    &lt;link rel=&quot;stylesheet&quot; href=&quot;https://cdn.jsdelivr.net/gh/python-visualization/folium/folium/templates/leaflet.awesome.rotate.min.css&quot;/&gt;\n",
       "    \n",
       "            &lt;meta name=&quot;viewport&quot; content=&quot;width=device-width,\n",
       "                initial-scale=1.0, maximum-scale=1.0, user-scalable=no&quot; /&gt;\n",
       "            &lt;style&gt;\n",
       "                #map_3d3f916478839b129564015dffb46230 {\n",
       "                    position: relative;\n",
       "                    width: 100.0%;\n",
       "                    height: 100.0%;\n",
       "                    left: 0.0%;\n",
       "                    top: 0.0%;\n",
       "                }\n",
       "                .leaflet-container { font-size: 1rem; }\n",
       "            &lt;/style&gt;\n",
       "\n",
       "            &lt;style&gt;html, body {\n",
       "                width: 100%;\n",
       "                height: 100%;\n",
       "                margin: 0;\n",
       "                padding: 0;\n",
       "            }\n",
       "            &lt;/style&gt;\n",
       "\n",
       "            &lt;style&gt;#map {\n",
       "                position:absolute;\n",
       "                top:0;\n",
       "                bottom:0;\n",
       "                right:0;\n",
       "                left:0;\n",
       "                }\n",
       "            &lt;/style&gt;\n",
       "\n",
       "            &lt;script&gt;\n",
       "                L_NO_TOUCH = false;\n",
       "                L_DISABLE_3D = false;\n",
       "            &lt;/script&gt;\n",
       "\n",
       "        \n",
       "    &lt;script src=&quot;https://cdn.jsdelivr.net/gh/python-visualization/folium@main/folium/templates/leaflet_heat.min.js&quot;&gt;&lt;/script&gt;\n",
       "&lt;/head&gt;\n",
       "&lt;body&gt;\n",
       "    \n",
       "    \n",
       "            &lt;div class=&quot;folium-map&quot; id=&quot;map_3d3f916478839b129564015dffb46230&quot; &gt;&lt;/div&gt;\n",
       "        \n",
       "&lt;/body&gt;\n",
       "&lt;script&gt;\n",
       "    \n",
       "    \n",
       "            var map_3d3f916478839b129564015dffb46230 = L.map(\n",
       "                &quot;map_3d3f916478839b129564015dffb46230&quot;,\n",
       "                {\n",
       "                    center: [0.0, 0.0],\n",
       "                    crs: L.CRS.EPSG3857,\n",
       "                    ...{\n",
       "  &quot;zoom&quot;: 1,\n",
       "  &quot;zoomControl&quot;: true,\n",
       "  &quot;preferCanvas&quot;: false,\n",
       "  &quot;locations&quot;: [\n",
       "55.99952185714286,\n",
       "-3.7544741428571426,\n",
       "],\n",
       "}\n",
       "\n",
       "                }\n",
       "            );\n",
       "\n",
       "            \n",
       "\n",
       "        \n",
       "    \n",
       "            var tile_layer_de677075d89d96f2e7811bc82f80f1c6 = L.tileLayer(\n",
       "                &quot;https://tile.openstreetmap.org/{z}/{x}/{y}.png&quot;,\n",
       "                {\n",
       "  &quot;minZoom&quot;: 0,\n",
       "  &quot;maxZoom&quot;: 19,\n",
       "  &quot;maxNativeZoom&quot;: 19,\n",
       "  &quot;noWrap&quot;: false,\n",
       "  &quot;attribution&quot;: &quot;\\u0026copy; \\u003ca href=\\&quot;https://www.openstreetmap.org/copyright\\&quot;\\u003eOpenStreetMap\\u003c/a\\u003e contributors&quot;,\n",
       "  &quot;subdomains&quot;: &quot;abc&quot;,\n",
       "  &quot;detectRetina&quot;: false,\n",
       "  &quot;tms&quot;: false,\n",
       "  &quot;opacity&quot;: 1,\n",
       "}\n",
       "\n",
       "            );\n",
       "        \n",
       "    \n",
       "            tile_layer_de677075d89d96f2e7811bc82f80f1c6.addTo(map_3d3f916478839b129564015dffb46230);\n",
       "        \n",
       "    \n",
       "            var heat_map_f6ea091cf2eff2b641fe367655dde63f = L.heatLayer(\n",
       "                [[56.011255, -3.611104], [56.001372, -3.918607], [55.988711, -3.817136], [55.998555, -3.801562], [56.010814, -3.630976], [55.998355, -3.821277], [55.987591, -3.680657]],\n",
       "                {\n",
       "  &quot;minOpacity&quot;: 0.5,\n",
       "  &quot;maxZoom&quot;: 18,\n",
       "  &quot;radius&quot;: 25,\n",
       "  &quot;blur&quot;: 15,\n",
       "}\n",
       "            );\n",
       "        \n",
       "    \n",
       "            heat_map_f6ea091cf2eff2b641fe367655dde63f.addTo(map_3d3f916478839b129564015dffb46230);\n",
       "        \n",
       "    \n",
       "            tile_layer_de677075d89d96f2e7811bc82f80f1c6.addTo(map_3d3f916478839b129564015dffb46230);\n",
       "        \n",
       "    \n",
       "            heat_map_f6ea091cf2eff2b641fe367655dde63f.addTo(map_3d3f916478839b129564015dffb46230);\n",
       "        \n",
       "&lt;/script&gt;\n",
       "&lt;/html&gt;\" style=\"position:absolute;width:100%;height:100%;left:0;top:0;border:none !important;\" allowfullscreen webkitallowfullscreen mozallowfullscreen></iframe></div></div>"
      ],
      "text/plain": [
       "<folium.folium.Map at 0x272cf167990>"
      ]
     },
     "execution_count": 122,
     "metadata": {},
     "output_type": "execute_result"
    }
   ],
   "source": [
    "falkirk = data[(data['District Area'] == 'Falkirk') & (data['Vehicle_Type'] == 'Car') ]\n",
    "falkirk_fatal = falkirk[falkirk['Accident_Severity'] == 'Fatal']\n",
    "\n",
    "locations  = list(zip(falkirk_fatal['Latitude'],falkirk_fatal['Longitude']))\n",
    "falkirk_map = folium.Map(locations=[falkirk_fatal['Latitude'].mean(), falkirk_fatal['Longitude'].mean()], zoom_start=10)\n",
    "HeatMap(locations).add_to(falkirk_map)\n",
    "falkirk_map.save('falkirk_accident_heatmap.html')  \n",
    "falkirk_map  "
   ]
  },
  {
   "cell_type": "markdown",
   "id": "8dc5ccfb-34a9-4a69-a9a0-9a977b3dd587",
   "metadata": {},
   "source": [
    "<h3>Insight 30:</h3>\n",
    "<h4>There are two major \"hotspots\", in the Camelon and Arnothill areas, and a third, distinct hotspot to the south. This indicates that road safety efforts in Falkirk should be focused on these precise locations, likely due to specific factors like busy intersections, high traffic volumes, or particular road features, to have the greatest impact on reducing accidents.</h4>\n",
    "<hr>"
   ]
  },
  {
   "cell_type": "markdown",
   "id": "0013daf4-1eac-4e4b-bbd2-a18815739b76",
   "metadata": {},
   "source": [
    "<h2>Torbay Analysis</h2>"
   ]
  },
  {
   "cell_type": "code",
   "execution_count": 123,
   "id": "296bcb87-fe50-48ff-a5bf-b36daed6803b",
   "metadata": {},
   "outputs": [],
   "source": [
    "torbay = data[data['District Area'] == 'Torbay' ]\n",
    "torbay_fatal = torbay[torbay['Accident_Severity'] == 'Fatal']"
   ]
  },
  {
   "cell_type": "code",
   "execution_count": 124,
   "id": "b8f9f1e9-1854-4189-b744-4ea131036100",
   "metadata": {},
   "outputs": [
    {
     "data": {
      "text/html": [
       "<div style=\"width:100%;\"><div style=\"position:relative;width:100%;height:0;padding-bottom:60%;\"><span style=\"color:#565656\">Make this Notebook Trusted to load map: File -> Trust Notebook</span><iframe srcdoc=\"&lt;!DOCTYPE html&gt;\n",
       "&lt;html&gt;\n",
       "&lt;head&gt;\n",
       "    \n",
       "    &lt;meta http-equiv=&quot;content-type&quot; content=&quot;text/html; charset=UTF-8&quot; /&gt;\n",
       "    &lt;script src=&quot;https://cdn.jsdelivr.net/npm/leaflet@1.9.3/dist/leaflet.js&quot;&gt;&lt;/script&gt;\n",
       "    &lt;script src=&quot;https://code.jquery.com/jquery-3.7.1.min.js&quot;&gt;&lt;/script&gt;\n",
       "    &lt;script src=&quot;https://cdn.jsdelivr.net/npm/bootstrap@5.2.2/dist/js/bootstrap.bundle.min.js&quot;&gt;&lt;/script&gt;\n",
       "    &lt;script src=&quot;https://cdnjs.cloudflare.com/ajax/libs/Leaflet.awesome-markers/2.0.2/leaflet.awesome-markers.js&quot;&gt;&lt;/script&gt;\n",
       "    &lt;link rel=&quot;stylesheet&quot; href=&quot;https://cdn.jsdelivr.net/npm/leaflet@1.9.3/dist/leaflet.css&quot;/&gt;\n",
       "    &lt;link rel=&quot;stylesheet&quot; href=&quot;https://cdn.jsdelivr.net/npm/bootstrap@5.2.2/dist/css/bootstrap.min.css&quot;/&gt;\n",
       "    &lt;link rel=&quot;stylesheet&quot; href=&quot;https://netdna.bootstrapcdn.com/bootstrap/3.0.0/css/bootstrap-glyphicons.css&quot;/&gt;\n",
       "    &lt;link rel=&quot;stylesheet&quot; href=&quot;https://cdn.jsdelivr.net/npm/@fortawesome/fontawesome-free@6.2.0/css/all.min.css&quot;/&gt;\n",
       "    &lt;link rel=&quot;stylesheet&quot; href=&quot;https://cdnjs.cloudflare.com/ajax/libs/Leaflet.awesome-markers/2.0.2/leaflet.awesome-markers.css&quot;/&gt;\n",
       "    &lt;link rel=&quot;stylesheet&quot; href=&quot;https://cdn.jsdelivr.net/gh/python-visualization/folium/folium/templates/leaflet.awesome.rotate.min.css&quot;/&gt;\n",
       "    \n",
       "            &lt;meta name=&quot;viewport&quot; content=&quot;width=device-width,\n",
       "                initial-scale=1.0, maximum-scale=1.0, user-scalable=no&quot; /&gt;\n",
       "            &lt;style&gt;\n",
       "                #map_95135f6e823ae2f1132f1810e6e4068e {\n",
       "                    position: relative;\n",
       "                    width: 100.0%;\n",
       "                    height: 100.0%;\n",
       "                    left: 0.0%;\n",
       "                    top: 0.0%;\n",
       "                }\n",
       "                .leaflet-container { font-size: 1rem; }\n",
       "            &lt;/style&gt;\n",
       "\n",
       "            &lt;style&gt;html, body {\n",
       "                width: 100%;\n",
       "                height: 100%;\n",
       "                margin: 0;\n",
       "                padding: 0;\n",
       "            }\n",
       "            &lt;/style&gt;\n",
       "\n",
       "            &lt;style&gt;#map {\n",
       "                position:absolute;\n",
       "                top:0;\n",
       "                bottom:0;\n",
       "                right:0;\n",
       "                left:0;\n",
       "                }\n",
       "            &lt;/style&gt;\n",
       "\n",
       "            &lt;script&gt;\n",
       "                L_NO_TOUCH = false;\n",
       "                L_DISABLE_3D = false;\n",
       "            &lt;/script&gt;\n",
       "\n",
       "        \n",
       "    &lt;script src=&quot;https://cdn.jsdelivr.net/gh/python-visualization/folium@main/folium/templates/leaflet_heat.min.js&quot;&gt;&lt;/script&gt;\n",
       "&lt;/head&gt;\n",
       "&lt;body&gt;\n",
       "    \n",
       "    \n",
       "            &lt;div class=&quot;folium-map&quot; id=&quot;map_95135f6e823ae2f1132f1810e6e4068e&quot; &gt;&lt;/div&gt;\n",
       "        \n",
       "&lt;/body&gt;\n",
       "&lt;script&gt;\n",
       "    \n",
       "    \n",
       "            var map_95135f6e823ae2f1132f1810e6e4068e = L.map(\n",
       "                &quot;map_95135f6e823ae2f1132f1810e6e4068e&quot;,\n",
       "                {\n",
       "                    center: [50.437124999999995, -3.541502636363636],\n",
       "                    crs: L.CRS.EPSG3857,\n",
       "                    ...{\n",
       "  &quot;zoom&quot;: 10,\n",
       "  &quot;zoomControl&quot;: true,\n",
       "  &quot;preferCanvas&quot;: false,\n",
       "}\n",
       "\n",
       "                }\n",
       "            );\n",
       "\n",
       "            \n",
       "\n",
       "        \n",
       "    \n",
       "            var tile_layer_fa1c52d2d5693d848ed7af6bb2d314a2 = L.tileLayer(\n",
       "                &quot;https://tile.openstreetmap.org/{z}/{x}/{y}.png&quot;,\n",
       "                {\n",
       "  &quot;minZoom&quot;: 0,\n",
       "  &quot;maxZoom&quot;: 19,\n",
       "  &quot;maxNativeZoom&quot;: 19,\n",
       "  &quot;noWrap&quot;: false,\n",
       "  &quot;attribution&quot;: &quot;\\u0026copy; \\u003ca href=\\&quot;https://www.openstreetmap.org/copyright\\&quot;\\u003eOpenStreetMap\\u003c/a\\u003e contributors&quot;,\n",
       "  &quot;subdomains&quot;: &quot;abc&quot;,\n",
       "  &quot;detectRetina&quot;: false,\n",
       "  &quot;tms&quot;: false,\n",
       "  &quot;opacity&quot;: 1,\n",
       "}\n",
       "\n",
       "            );\n",
       "        \n",
       "    \n",
       "            tile_layer_fa1c52d2d5693d848ed7af6bb2d314a2.addTo(map_95135f6e823ae2f1132f1810e6e4068e);\n",
       "        \n",
       "    \n",
       "            var heat_map_a09cbf6f092cf1678878d048c993b8b6 = L.heatLayer(\n",
       "                [[50.396982, -3.556793], [50.397072, -3.556796], [50.473994, -3.507176], [50.469173, -3.531965], [50.390189, -3.54011], [50.435503, -3.568195], [50.457419, -3.509185], [50.389898, -3.514356], [50.433589, -3.570103], [50.489752, -3.553636], [50.474804, -3.548214]],\n",
       "                {\n",
       "  &quot;minOpacity&quot;: 0.5,\n",
       "  &quot;maxZoom&quot;: 18,\n",
       "  &quot;radius&quot;: 25,\n",
       "  &quot;blur&quot;: 15,\n",
       "}\n",
       "            );\n",
       "        \n",
       "    \n",
       "            heat_map_a09cbf6f092cf1678878d048c993b8b6.addTo(map_95135f6e823ae2f1132f1810e6e4068e);\n",
       "        \n",
       "    \n",
       "            tile_layer_fa1c52d2d5693d848ed7af6bb2d314a2.addTo(map_95135f6e823ae2f1132f1810e6e4068e);\n",
       "        \n",
       "    \n",
       "            heat_map_a09cbf6f092cf1678878d048c993b8b6.addTo(map_95135f6e823ae2f1132f1810e6e4068e);\n",
       "        \n",
       "&lt;/script&gt;\n",
       "&lt;/html&gt;\" style=\"position:absolute;width:100%;height:100%;left:0;top:0;border:none !important;\" allowfullscreen webkitallowfullscreen mozallowfullscreen></iframe></div></div>"
      ],
      "text/plain": [
       "<folium.folium.Map at 0x272cf167e10>"
      ]
     },
     "execution_count": 124,
     "metadata": {},
     "output_type": "execute_result"
    }
   ],
   "source": [
    "locations  = list(zip(torbay_fatal['Latitude'],torbay_fatal['Longitude']))\n",
    "torbay_map = folium.Map(location=[torbay_fatal['Latitude'].mean(), torbay_fatal['Longitude'].mean()], zoom_start=10)\n",
    "HeatMap(locations).add_to(torbay_map)\n",
    "torbay_map.save('torbay_accident_heatmap.html')  \n",
    "torbay_map  "
   ]
  },
  {
   "cell_type": "markdown",
   "id": "c394d24e-f1dd-4fd1-868e-cc52bd519b9a",
   "metadata": {},
   "source": [
    "<h3>Insight 31:</h3>\n",
    "<h4>Based on the heatmap, the most dangerous areas for fatal accidents in Torbay are highly concentrated in three specific spots: Paignton, Churston Ferrers, and Torquay. This means that road safety efforts would be most effective by focusing on these exact locations rather than trying to improve all roads in the area.</h4>\n",
    "<hr>"
   ]
  },
  {
   "cell_type": "code",
   "execution_count": null,
   "id": "f29aea56-eae4-4673-9d3f-432896e45d34",
   "metadata": {},
   "outputs": [],
   "source": []
  }
 ],
 "metadata": {
  "kernelspec": {
   "display_name": "Python 3 (ipykernel)",
   "language": "python",
   "name": "python3"
  },
  "language_info": {
   "codemirror_mode": {
    "name": "ipython",
    "version": 3
   },
   "file_extension": ".py",
   "mimetype": "text/x-python",
   "name": "python",
   "nbconvert_exporter": "python",
   "pygments_lexer": "ipython3",
   "version": "3.11.9"
  }
 },
 "nbformat": 4,
 "nbformat_minor": 5
}
